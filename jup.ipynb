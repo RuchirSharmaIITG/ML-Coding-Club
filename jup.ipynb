{
 "cells": [
  {
   "metadata": {
    "ExecuteTime": {
     "end_time": "2025-05-25T19:56:49.267301Z",
     "start_time": "2025-05-25T19:56:49.239320Z"
    }
   },
   "cell_type": "code",
   "source": [
    "from unittest.mock import inplace\n",
    "\n",
    "import pandas as pd\n",
    "import numpy as np\n",
    "import matplotlib.pyplot as plt\n",
    "import seaborn as sns"
   ],
   "id": "cd917b5d8e754d34",
   "outputs": [],
   "execution_count": 6
  },
  {
   "metadata": {
    "ExecuteTime": {
     "end_time": "2025-05-25T19:56:49.332505Z",
     "start_time": "2025-05-25T19:56:49.319288Z"
    }
   },
   "cell_type": "code",
   "source": "df=pd.read_csv('DATA TASK - 1/Dataset.csv')",
   "id": "43fa47b1ddb57b78",
   "outputs": [],
   "execution_count": 7
  },
  {
   "metadata": {
    "ExecuteTime": {
     "end_time": "2025-05-25T19:56:49.374818Z",
     "start_time": "2025-05-25T19:56:49.350345Z"
    }
   },
   "cell_type": "code",
   "source": "df",
   "id": "fbc2133119b4708",
   "outputs": [
    {
     "data": {
      "text/plain": [
       "    school sex address famsize Pstatus  Medu  Fedu      Mjob      Fjob  \\\n",
       "0       GP   F       U     GT3       A     4   4.0   at_home   teacher   \n",
       "1       GP   F       U     GT3       T     1   1.0   at_home     other   \n",
       "2       GP   F       U     LE3       T     1   1.0   at_home     other   \n",
       "3       GP   F       U     GT3       T     4   2.0    health  services   \n",
       "4       GP   F       U     GT3       T     3   3.0     other     other   \n",
       "..     ...  ..     ...     ...     ...   ...   ...       ...       ...   \n",
       "644     MS   F       R     GT3       T     2   3.0  services     other   \n",
       "645     MS   F       U     LE3       T     3   1.0   teacher  services   \n",
       "646     MS   F       U     GT3       T     1   1.0     other     other   \n",
       "647     MS   M       U     LE3       T     3   1.0  services  services   \n",
       "648     MS   M       R     LE3       T     3   2.0  services     other   \n",
       "\n",
       "     reason  ... Dalc  health  absences  G1    G2  G3 Feature_1 Feature_2  \\\n",
       "0    course  ...    1       3       4.0   0  11.0  11      18.0       2.0   \n",
       "1    course  ...    1       3       2.0   9  11.0  11      17.0       2.0   \n",
       "2     other  ...    2       3       6.0  12  13.0  12      15.0       NaN   \n",
       "3      home  ...    1       5       0.0  14  14.0  14      15.0       3.0   \n",
       "4      home  ...    1       5       0.0  11  13.0  13      16.0       NaN   \n",
       "..      ...  ...  ...     ...       ...  ..   ...  ..       ...       ...   \n",
       "644  course  ...    1       5       4.0  10  11.0  10      19.0       3.0   \n",
       "645  course  ...    1       1       NaN  15  15.0  16      18.0       2.0   \n",
       "646  course  ...    1       5       6.0  11  12.0   9      18.0       NaN   \n",
       "647  course  ...    3       2       6.0  10  10.0  10       NaN       1.0   \n",
       "648  course  ...    3       5       4.0  10  11.0  11      18.0       1.0   \n",
       "\n",
       "    Feature_3 romantic  \n",
       "0         1.0       no  \n",
       "1         1.0       no  \n",
       "2         3.0       no  \n",
       "3         1.0      yes  \n",
       "4         2.0       no  \n",
       "..        ...      ...  \n",
       "644       2.0       no  \n",
       "645       1.0       no  \n",
       "646       1.0       no  \n",
       "647       4.0       no  \n",
       "648       4.0       no  \n",
       "\n",
       "[649 rows x 33 columns]"
      ],
      "text/html": [
       "<div>\n",
       "<style scoped>\n",
       "    .dataframe tbody tr th:only-of-type {\n",
       "        vertical-align: middle;\n",
       "    }\n",
       "\n",
       "    .dataframe tbody tr th {\n",
       "        vertical-align: top;\n",
       "    }\n",
       "\n",
       "    .dataframe thead th {\n",
       "        text-align: right;\n",
       "    }\n",
       "</style>\n",
       "<table border=\"1\" class=\"dataframe\">\n",
       "  <thead>\n",
       "    <tr style=\"text-align: right;\">\n",
       "      <th></th>\n",
       "      <th>school</th>\n",
       "      <th>sex</th>\n",
       "      <th>address</th>\n",
       "      <th>famsize</th>\n",
       "      <th>Pstatus</th>\n",
       "      <th>Medu</th>\n",
       "      <th>Fedu</th>\n",
       "      <th>Mjob</th>\n",
       "      <th>Fjob</th>\n",
       "      <th>reason</th>\n",
       "      <th>...</th>\n",
       "      <th>Dalc</th>\n",
       "      <th>health</th>\n",
       "      <th>absences</th>\n",
       "      <th>G1</th>\n",
       "      <th>G2</th>\n",
       "      <th>G3</th>\n",
       "      <th>Feature_1</th>\n",
       "      <th>Feature_2</th>\n",
       "      <th>Feature_3</th>\n",
       "      <th>romantic</th>\n",
       "    </tr>\n",
       "  </thead>\n",
       "  <tbody>\n",
       "    <tr>\n",
       "      <th>0</th>\n",
       "      <td>GP</td>\n",
       "      <td>F</td>\n",
       "      <td>U</td>\n",
       "      <td>GT3</td>\n",
       "      <td>A</td>\n",
       "      <td>4</td>\n",
       "      <td>4.0</td>\n",
       "      <td>at_home</td>\n",
       "      <td>teacher</td>\n",
       "      <td>course</td>\n",
       "      <td>...</td>\n",
       "      <td>1</td>\n",
       "      <td>3</td>\n",
       "      <td>4.0</td>\n",
       "      <td>0</td>\n",
       "      <td>11.0</td>\n",
       "      <td>11</td>\n",
       "      <td>18.0</td>\n",
       "      <td>2.0</td>\n",
       "      <td>1.0</td>\n",
       "      <td>no</td>\n",
       "    </tr>\n",
       "    <tr>\n",
       "      <th>1</th>\n",
       "      <td>GP</td>\n",
       "      <td>F</td>\n",
       "      <td>U</td>\n",
       "      <td>GT3</td>\n",
       "      <td>T</td>\n",
       "      <td>1</td>\n",
       "      <td>1.0</td>\n",
       "      <td>at_home</td>\n",
       "      <td>other</td>\n",
       "      <td>course</td>\n",
       "      <td>...</td>\n",
       "      <td>1</td>\n",
       "      <td>3</td>\n",
       "      <td>2.0</td>\n",
       "      <td>9</td>\n",
       "      <td>11.0</td>\n",
       "      <td>11</td>\n",
       "      <td>17.0</td>\n",
       "      <td>2.0</td>\n",
       "      <td>1.0</td>\n",
       "      <td>no</td>\n",
       "    </tr>\n",
       "    <tr>\n",
       "      <th>2</th>\n",
       "      <td>GP</td>\n",
       "      <td>F</td>\n",
       "      <td>U</td>\n",
       "      <td>LE3</td>\n",
       "      <td>T</td>\n",
       "      <td>1</td>\n",
       "      <td>1.0</td>\n",
       "      <td>at_home</td>\n",
       "      <td>other</td>\n",
       "      <td>other</td>\n",
       "      <td>...</td>\n",
       "      <td>2</td>\n",
       "      <td>3</td>\n",
       "      <td>6.0</td>\n",
       "      <td>12</td>\n",
       "      <td>13.0</td>\n",
       "      <td>12</td>\n",
       "      <td>15.0</td>\n",
       "      <td>NaN</td>\n",
       "      <td>3.0</td>\n",
       "      <td>no</td>\n",
       "    </tr>\n",
       "    <tr>\n",
       "      <th>3</th>\n",
       "      <td>GP</td>\n",
       "      <td>F</td>\n",
       "      <td>U</td>\n",
       "      <td>GT3</td>\n",
       "      <td>T</td>\n",
       "      <td>4</td>\n",
       "      <td>2.0</td>\n",
       "      <td>health</td>\n",
       "      <td>services</td>\n",
       "      <td>home</td>\n",
       "      <td>...</td>\n",
       "      <td>1</td>\n",
       "      <td>5</td>\n",
       "      <td>0.0</td>\n",
       "      <td>14</td>\n",
       "      <td>14.0</td>\n",
       "      <td>14</td>\n",
       "      <td>15.0</td>\n",
       "      <td>3.0</td>\n",
       "      <td>1.0</td>\n",
       "      <td>yes</td>\n",
       "    </tr>\n",
       "    <tr>\n",
       "      <th>4</th>\n",
       "      <td>GP</td>\n",
       "      <td>F</td>\n",
       "      <td>U</td>\n",
       "      <td>GT3</td>\n",
       "      <td>T</td>\n",
       "      <td>3</td>\n",
       "      <td>3.0</td>\n",
       "      <td>other</td>\n",
       "      <td>other</td>\n",
       "      <td>home</td>\n",
       "      <td>...</td>\n",
       "      <td>1</td>\n",
       "      <td>5</td>\n",
       "      <td>0.0</td>\n",
       "      <td>11</td>\n",
       "      <td>13.0</td>\n",
       "      <td>13</td>\n",
       "      <td>16.0</td>\n",
       "      <td>NaN</td>\n",
       "      <td>2.0</td>\n",
       "      <td>no</td>\n",
       "    </tr>\n",
       "    <tr>\n",
       "      <th>...</th>\n",
       "      <td>...</td>\n",
       "      <td>...</td>\n",
       "      <td>...</td>\n",
       "      <td>...</td>\n",
       "      <td>...</td>\n",
       "      <td>...</td>\n",
       "      <td>...</td>\n",
       "      <td>...</td>\n",
       "      <td>...</td>\n",
       "      <td>...</td>\n",
       "      <td>...</td>\n",
       "      <td>...</td>\n",
       "      <td>...</td>\n",
       "      <td>...</td>\n",
       "      <td>...</td>\n",
       "      <td>...</td>\n",
       "      <td>...</td>\n",
       "      <td>...</td>\n",
       "      <td>...</td>\n",
       "      <td>...</td>\n",
       "      <td>...</td>\n",
       "    </tr>\n",
       "    <tr>\n",
       "      <th>644</th>\n",
       "      <td>MS</td>\n",
       "      <td>F</td>\n",
       "      <td>R</td>\n",
       "      <td>GT3</td>\n",
       "      <td>T</td>\n",
       "      <td>2</td>\n",
       "      <td>3.0</td>\n",
       "      <td>services</td>\n",
       "      <td>other</td>\n",
       "      <td>course</td>\n",
       "      <td>...</td>\n",
       "      <td>1</td>\n",
       "      <td>5</td>\n",
       "      <td>4.0</td>\n",
       "      <td>10</td>\n",
       "      <td>11.0</td>\n",
       "      <td>10</td>\n",
       "      <td>19.0</td>\n",
       "      <td>3.0</td>\n",
       "      <td>2.0</td>\n",
       "      <td>no</td>\n",
       "    </tr>\n",
       "    <tr>\n",
       "      <th>645</th>\n",
       "      <td>MS</td>\n",
       "      <td>F</td>\n",
       "      <td>U</td>\n",
       "      <td>LE3</td>\n",
       "      <td>T</td>\n",
       "      <td>3</td>\n",
       "      <td>1.0</td>\n",
       "      <td>teacher</td>\n",
       "      <td>services</td>\n",
       "      <td>course</td>\n",
       "      <td>...</td>\n",
       "      <td>1</td>\n",
       "      <td>1</td>\n",
       "      <td>NaN</td>\n",
       "      <td>15</td>\n",
       "      <td>15.0</td>\n",
       "      <td>16</td>\n",
       "      <td>18.0</td>\n",
       "      <td>2.0</td>\n",
       "      <td>1.0</td>\n",
       "      <td>no</td>\n",
       "    </tr>\n",
       "    <tr>\n",
       "      <th>646</th>\n",
       "      <td>MS</td>\n",
       "      <td>F</td>\n",
       "      <td>U</td>\n",
       "      <td>GT3</td>\n",
       "      <td>T</td>\n",
       "      <td>1</td>\n",
       "      <td>1.0</td>\n",
       "      <td>other</td>\n",
       "      <td>other</td>\n",
       "      <td>course</td>\n",
       "      <td>...</td>\n",
       "      <td>1</td>\n",
       "      <td>5</td>\n",
       "      <td>6.0</td>\n",
       "      <td>11</td>\n",
       "      <td>12.0</td>\n",
       "      <td>9</td>\n",
       "      <td>18.0</td>\n",
       "      <td>NaN</td>\n",
       "      <td>1.0</td>\n",
       "      <td>no</td>\n",
       "    </tr>\n",
       "    <tr>\n",
       "      <th>647</th>\n",
       "      <td>MS</td>\n",
       "      <td>M</td>\n",
       "      <td>U</td>\n",
       "      <td>LE3</td>\n",
       "      <td>T</td>\n",
       "      <td>3</td>\n",
       "      <td>1.0</td>\n",
       "      <td>services</td>\n",
       "      <td>services</td>\n",
       "      <td>course</td>\n",
       "      <td>...</td>\n",
       "      <td>3</td>\n",
       "      <td>2</td>\n",
       "      <td>6.0</td>\n",
       "      <td>10</td>\n",
       "      <td>10.0</td>\n",
       "      <td>10</td>\n",
       "      <td>NaN</td>\n",
       "      <td>1.0</td>\n",
       "      <td>4.0</td>\n",
       "      <td>no</td>\n",
       "    </tr>\n",
       "    <tr>\n",
       "      <th>648</th>\n",
       "      <td>MS</td>\n",
       "      <td>M</td>\n",
       "      <td>R</td>\n",
       "      <td>LE3</td>\n",
       "      <td>T</td>\n",
       "      <td>3</td>\n",
       "      <td>2.0</td>\n",
       "      <td>services</td>\n",
       "      <td>other</td>\n",
       "      <td>course</td>\n",
       "      <td>...</td>\n",
       "      <td>3</td>\n",
       "      <td>5</td>\n",
       "      <td>4.0</td>\n",
       "      <td>10</td>\n",
       "      <td>11.0</td>\n",
       "      <td>11</td>\n",
       "      <td>18.0</td>\n",
       "      <td>1.0</td>\n",
       "      <td>4.0</td>\n",
       "      <td>no</td>\n",
       "    </tr>\n",
       "  </tbody>\n",
       "</table>\n",
       "<p>649 rows × 33 columns</p>\n",
       "</div>"
      ]
     },
     "execution_count": 8,
     "metadata": {},
     "output_type": "execute_result"
    }
   ],
   "execution_count": 8
  },
  {
   "metadata": {
    "ExecuteTime": {
     "end_time": "2025-05-25T19:56:49.442491Z",
     "start_time": "2025-05-25T19:56:49.430889Z"
    }
   },
   "cell_type": "code",
   "source": "df.info()",
   "id": "17ba6bcff97cfcca",
   "outputs": [
    {
     "name": "stdout",
     "output_type": "stream",
     "text": [
      "<class 'pandas.core.frame.DataFrame'>\n",
      "RangeIndex: 649 entries, 0 to 648\n",
      "Data columns (total 33 columns):\n",
      " #   Column      Non-Null Count  Dtype  \n",
      "---  ------      --------------  -----  \n",
      " 0   school      649 non-null    object \n",
      " 1   sex         649 non-null    object \n",
      " 2   address     649 non-null    object \n",
      " 3   famsize     599 non-null    object \n",
      " 4   Pstatus     649 non-null    object \n",
      " 5   Medu        649 non-null    int64  \n",
      " 6   Fedu        576 non-null    float64\n",
      " 7   Mjob        649 non-null    object \n",
      " 8   Fjob        649 non-null    object \n",
      " 9   reason      649 non-null    object \n",
      " 10  guardian    649 non-null    object \n",
      " 11  traveltime  576 non-null    float64\n",
      " 12  failures    649 non-null    int64  \n",
      " 13  schoolsup   649 non-null    object \n",
      " 14  famsup      649 non-null    object \n",
      " 15  paid        649 non-null    object \n",
      " 16  activities  649 non-null    object \n",
      " 17  nursery     649 non-null    object \n",
      " 18  higher      573 non-null    object \n",
      " 19  internet    649 non-null    object \n",
      " 20  famrel      649 non-null    int64  \n",
      " 21  freetime    604 non-null    float64\n",
      " 22  goout       649 non-null    int64  \n",
      " 23  Dalc        649 non-null    int64  \n",
      " 24  health      649 non-null    int64  \n",
      " 25  absences    580 non-null    float64\n",
      " 26  G1          649 non-null    int64  \n",
      " 27  G2          614 non-null    float64\n",
      " 28  G3          649 non-null    int64  \n",
      " 29  Feature_1   611 non-null    float64\n",
      " 30  Feature_2   603 non-null    float64\n",
      " 31  Feature_3   610 non-null    float64\n",
      " 32  romantic    649 non-null    object \n",
      "dtypes: float64(8), int64(8), object(17)\n",
      "memory usage: 167.4+ KB\n"
     ]
    }
   ],
   "execution_count": 9
  },
  {
   "metadata": {
    "ExecuteTime": {
     "end_time": "2025-05-25T19:56:49.560431Z",
     "start_time": "2025-05-25T19:56:49.557342Z"
    }
   },
   "cell_type": "code",
   "source": "fam_counts = df['famsize'].value_counts()",
   "id": "b1327b8dd6bd369f",
   "outputs": [],
   "execution_count": 10
  },
  {
   "metadata": {
    "ExecuteTime": {
     "end_time": "2025-05-25T19:56:49.707884Z",
     "start_time": "2025-05-25T19:56:49.703111Z"
    }
   },
   "cell_type": "code",
   "source": "fam_counts",
   "id": "814faf4b303b1a3c",
   "outputs": [
    {
     "data": {
      "text/plain": [
       "famsize\n",
       "GT3    424\n",
       "LE3    175\n",
       "Name: count, dtype: int64"
      ]
     },
     "execution_count": 11,
     "metadata": {},
     "output_type": "execute_result"
    }
   ],
   "execution_count": 11
  },
  {
   "metadata": {
    "ExecuteTime": {
     "end_time": "2025-05-25T19:56:49.775095Z",
     "start_time": "2025-05-25T19:56:49.767843Z"
    }
   },
   "cell_type": "code",
   "source": [
    "# since the 2 values are quite far thus we can take the mode and fill at null places.\n",
    "df['famsize']=df['famsize'].fillna('GT3')\n",
    "df['famsize'].info()"
   ],
   "id": "6e2fd253a85cef4d",
   "outputs": [
    {
     "name": "stdout",
     "output_type": "stream",
     "text": [
      "<class 'pandas.core.series.Series'>\n",
      "RangeIndex: 649 entries, 0 to 648\n",
      "Series name: famsize\n",
      "Non-Null Count  Dtype \n",
      "--------------  ----- \n",
      "649 non-null    object\n",
      "dtypes: object(1)\n",
      "memory usage: 5.2+ KB\n"
     ]
    }
   ],
   "execution_count": 12
  },
  {
   "metadata": {
    "ExecuteTime": {
     "end_time": "2025-05-25T19:56:49.921105Z",
     "start_time": "2025-05-25T19:56:49.915275Z"
    }
   },
   "cell_type": "code",
   "source": [
    "fedu_counts = df['Fedu'].value_counts()\n",
    "fedu_counts"
   ],
   "id": "7d140367a839c4e5",
   "outputs": [
    {
     "data": {
      "text/plain": [
       "Fedu\n",
       "2.0    182\n",
       "1.0    159\n",
       "4.0    117\n",
       "3.0    112\n",
       "0.0      6\n",
       "Name: count, dtype: int64"
      ]
     },
     "execution_count": 13,
     "metadata": {},
     "output_type": "execute_result"
    }
   ],
   "execution_count": 13
  },
  {
   "metadata": {
    "ExecuteTime": {
     "end_time": "2025-05-25T19:56:50.031600Z",
     "start_time": "2025-05-25T19:56:50.022645Z"
    }
   },
   "cell_type": "code",
   "source": [
    "# In this data set we would prefer median over mean as we don’t want to be skewed by outliers.\n",
    "med_fedu = df['Fedu'].median()\n",
    "df['Fedu']=df['Fedu'].fillna(med_fedu)\n",
    "df['Fedu'].info()\n",
    "df['Fedu'].value_counts()"
   ],
   "id": "c5caec0f074cdac4",
   "outputs": [
    {
     "name": "stdout",
     "output_type": "stream",
     "text": [
      "<class 'pandas.core.series.Series'>\n",
      "RangeIndex: 649 entries, 0 to 648\n",
      "Series name: Fedu\n",
      "Non-Null Count  Dtype  \n",
      "--------------  -----  \n",
      "649 non-null    float64\n",
      "dtypes: float64(1)\n",
      "memory usage: 5.2 KB\n"
     ]
    },
    {
     "data": {
      "text/plain": [
       "Fedu\n",
       "2.0    255\n",
       "1.0    159\n",
       "4.0    117\n",
       "3.0    112\n",
       "0.0      6\n",
       "Name: count, dtype: int64"
      ]
     },
     "execution_count": 14,
     "metadata": {},
     "output_type": "execute_result"
    }
   ],
   "execution_count": 14
  },
  {
   "metadata": {
    "ExecuteTime": {
     "end_time": "2025-05-25T19:56:50.170251Z",
     "start_time": "2025-05-25T19:56:50.165493Z"
    }
   },
   "cell_type": "code",
   "source": [
    "# Similarly now we will do the same process for traveltime, higher, freetime, absences, G2, Feature_1, Feature_2, Feature_3.\n",
    "traveltime_counts = df['traveltime'].value_counts()\n",
    "traveltime_counts"
   ],
   "id": "d7450acdd35bbbf5",
   "outputs": [
    {
     "data": {
      "text/plain": [
       "traveltime\n",
       "1.0    320\n",
       "2.0    195\n",
       "3.0     47\n",
       "4.0     14\n",
       "Name: count, dtype: int64"
      ]
     },
     "execution_count": 15,
     "metadata": {},
     "output_type": "execute_result"
    }
   ],
   "execution_count": 15
  },
  {
   "metadata": {
    "ExecuteTime": {
     "end_time": "2025-05-25T19:56:50.365217Z",
     "start_time": "2025-05-25T19:56:50.356084Z"
    }
   },
   "cell_type": "code",
   "source": [
    "# Again median is favourable. In this case we can see that median = mode.\n",
    "med_traveltime = df['traveltime'].median()\n",
    "df['traveltime']=df['traveltime'].fillna(med_traveltime)\n",
    "df['traveltime'].info()\n",
    "df['traveltime'].value_counts()"
   ],
   "id": "b0eb771d6e36ace2",
   "outputs": [
    {
     "name": "stdout",
     "output_type": "stream",
     "text": [
      "<class 'pandas.core.series.Series'>\n",
      "RangeIndex: 649 entries, 0 to 648\n",
      "Series name: traveltime\n",
      "Non-Null Count  Dtype  \n",
      "--------------  -----  \n",
      "649 non-null    float64\n",
      "dtypes: float64(1)\n",
      "memory usage: 5.2 KB\n"
     ]
    },
    {
     "data": {
      "text/plain": [
       "traveltime\n",
       "1.0    393\n",
       "2.0    195\n",
       "3.0     47\n",
       "4.0     14\n",
       "Name: count, dtype: int64"
      ]
     },
     "execution_count": 16,
     "metadata": {},
     "output_type": "execute_result"
    }
   ],
   "execution_count": 16
  },
  {
   "metadata": {
    "ExecuteTime": {
     "end_time": "2025-05-25T19:56:50.523913Z",
     "start_time": "2025-05-25T19:56:50.517115Z"
    }
   },
   "cell_type": "code",
   "source": [
    "higher_counts = df['higher'].value_counts()\n",
    "higher_counts"
   ],
   "id": "35c5a1ea66d20f25",
   "outputs": [
    {
     "data": {
      "text/plain": [
       "higher\n",
       "yes    509\n",
       "no      64\n",
       "Name: count, dtype: int64"
      ]
     },
     "execution_count": 17,
     "metadata": {},
     "output_type": "execute_result"
    }
   ],
   "execution_count": 17
  },
  {
   "metadata": {
    "ExecuteTime": {
     "end_time": "2025-05-25T19:56:50.683138Z",
     "start_time": "2025-05-25T19:56:50.674960Z"
    }
   },
   "cell_type": "code",
   "source": [
    "# Since max students like to pursue higher education thus we replace na with YES.\n",
    "df['higher']=df['higher'].fillna('yes')\n",
    "df['higher'].info()\n",
    "df['higher'].value_counts()"
   ],
   "id": "a8b38c2e0845fd83",
   "outputs": [
    {
     "name": "stdout",
     "output_type": "stream",
     "text": [
      "<class 'pandas.core.series.Series'>\n",
      "RangeIndex: 649 entries, 0 to 648\n",
      "Series name: higher\n",
      "Non-Null Count  Dtype \n",
      "--------------  ----- \n",
      "649 non-null    object\n",
      "dtypes: object(1)\n",
      "memory usage: 5.2+ KB\n"
     ]
    },
    {
     "data": {
      "text/plain": [
       "higher\n",
       "yes    585\n",
       "no      64\n",
       "Name: count, dtype: int64"
      ]
     },
     "execution_count": 18,
     "metadata": {},
     "output_type": "execute_result"
    }
   ],
   "execution_count": 18
  },
  {
   "metadata": {
    "ExecuteTime": {
     "end_time": "2025-05-25T19:56:50.948354Z",
     "start_time": "2025-05-25T19:56:50.942173Z"
    }
   },
   "cell_type": "code",
   "source": [
    "freetime_counts = df['freetime'].value_counts()\n",
    "freetime_counts"
   ],
   "id": "b53d42a5f092094",
   "outputs": [
    {
     "data": {
      "text/plain": [
       "freetime\n",
       "3.0    234\n",
       "4.0    168\n",
       "2.0    100\n",
       "5.0     60\n",
       "1.0     42\n",
       "Name: count, dtype: int64"
      ]
     },
     "execution_count": 19,
     "metadata": {},
     "output_type": "execute_result"
    }
   ],
   "execution_count": 19
  },
  {
   "metadata": {
    "ExecuteTime": {
     "end_time": "2025-05-25T19:56:51.099667Z",
     "start_time": "2025-05-25T19:56:51.091393Z"
    }
   },
   "cell_type": "code",
   "source": [
    "# Since the distribution of datas is not all close to each other thus we use median here.\n",
    "med_freetime = df['freetime'].median()\n",
    "df['freetime']=df['freetime'].fillna(med_freetime)\n",
    "df['freetime'].info()\n",
    "df['freetime'].value_counts()"
   ],
   "id": "9d06c4ce2104d8db",
   "outputs": [
    {
     "name": "stdout",
     "output_type": "stream",
     "text": [
      "<class 'pandas.core.series.Series'>\n",
      "RangeIndex: 649 entries, 0 to 648\n",
      "Series name: freetime\n",
      "Non-Null Count  Dtype  \n",
      "--------------  -----  \n",
      "649 non-null    float64\n",
      "dtypes: float64(1)\n",
      "memory usage: 5.2 KB\n"
     ]
    },
    {
     "data": {
      "text/plain": [
       "freetime\n",
       "3.0    279\n",
       "4.0    168\n",
       "2.0    100\n",
       "5.0     60\n",
       "1.0     42\n",
       "Name: count, dtype: int64"
      ]
     },
     "execution_count": 20,
     "metadata": {},
     "output_type": "execute_result"
    }
   ],
   "execution_count": 20
  },
  {
   "metadata": {
    "ExecuteTime": {
     "end_time": "2025-05-25T19:56:51.276401Z",
     "start_time": "2025-05-25T19:56:51.265875Z"
    }
   },
   "cell_type": "code",
   "source": [
    "absences_counts = df['absences'].value_counts()\n",
    "absences_counts"
   ],
   "id": "f24451cffebd36ac",
   "outputs": [
    {
     "data": {
      "text/plain": [
       "absences\n",
       "0.0     216\n",
       "2.0      96\n",
       "4.0      84\n",
       "6.0      44\n",
       "8.0      38\n",
       "10.0     19\n",
       "12.0     11\n",
       "1.0      11\n",
       "5.0      11\n",
       "16.0      8\n",
       "14.0      8\n",
       "9.0       7\n",
       "3.0       5\n",
       "11.0      5\n",
       "7.0       3\n",
       "18.0      3\n",
       "15.0      2\n",
       "22.0      2\n",
       "21.0      2\n",
       "24.0      1\n",
       "32.0      1\n",
       "30.0      1\n",
       "26.0      1\n",
       "13.0      1\n",
       "Name: count, dtype: int64"
      ]
     },
     "execution_count": 21,
     "metadata": {},
     "output_type": "execute_result"
    }
   ],
   "execution_count": 21
  },
  {
   "metadata": {
    "ExecuteTime": {
     "end_time": "2025-05-25T19:56:51.495867Z",
     "start_time": "2025-05-25T19:56:51.484977Z"
    }
   },
   "cell_type": "code",
   "source": [
    "# Since we are talking about absences thus we fill na with mean of the data rounded off to the nearest int.\n",
    "mean_absences = df['absences'].mean()\n",
    "mean_absences = int(mean_absences)\n",
    "df['absences']=df['absences'].fillna(mean_absences)\n",
    "df['absences'].info()\n",
    "df['absences'].value_counts()"
   ],
   "id": "e573b3a83e1531db",
   "outputs": [
    {
     "name": "stdout",
     "output_type": "stream",
     "text": [
      "<class 'pandas.core.series.Series'>\n",
      "RangeIndex: 649 entries, 0 to 648\n",
      "Series name: absences\n",
      "Non-Null Count  Dtype  \n",
      "--------------  -----  \n",
      "649 non-null    float64\n",
      "dtypes: float64(1)\n",
      "memory usage: 5.2 KB\n"
     ]
    },
    {
     "data": {
      "text/plain": [
       "absences\n",
       "0.0     216\n",
       "2.0      96\n",
       "4.0      84\n",
       "3.0      74\n",
       "6.0      44\n",
       "8.0      38\n",
       "10.0     19\n",
       "1.0      11\n",
       "5.0      11\n",
       "12.0     11\n",
       "16.0      8\n",
       "14.0      8\n",
       "9.0       7\n",
       "11.0      5\n",
       "18.0      3\n",
       "7.0       3\n",
       "22.0      2\n",
       "15.0      2\n",
       "21.0      2\n",
       "24.0      1\n",
       "30.0      1\n",
       "32.0      1\n",
       "26.0      1\n",
       "13.0      1\n",
       "Name: count, dtype: int64"
      ]
     },
     "execution_count": 22,
     "metadata": {},
     "output_type": "execute_result"
    }
   ],
   "execution_count": 22
  },
  {
   "metadata": {
    "ExecuteTime": {
     "end_time": "2025-05-25T19:56:51.669056Z",
     "start_time": "2025-05-25T19:56:51.663966Z"
    }
   },
   "cell_type": "code",
   "source": [
    "G2_counts = df['G2'].value_counts()\n",
    "G2_counts"
   ],
   "id": "dfe75cffa9c17ada",
   "outputs": [
    {
     "data": {
      "text/plain": [
       "G2\n",
       "11.0    97\n",
       "12.0    85\n",
       "13.0    75\n",
       "10.0    75\n",
       "9.0     67\n",
       "14.0    54\n",
       "8.0     37\n",
       "15.0    36\n",
       "16.0    23\n",
       "17.0    18\n",
       "7.0     15\n",
       "18.0    14\n",
       "6.0      7\n",
       "0.0      7\n",
       "5.0      3\n",
       "19.0     1\n",
       "Name: count, dtype: int64"
      ]
     },
     "execution_count": 23,
     "metadata": {},
     "output_type": "execute_result"
    }
   ],
   "execution_count": 23
  },
  {
   "metadata": {
    "ExecuteTime": {
     "end_time": "2025-05-25T19:56:51.860741Z",
     "start_time": "2025-05-25T19:56:51.849569Z"
    }
   },
   "cell_type": "code",
   "source": [
    "# Since we are talking about grades thus we fill na with mean of the data rounded off to the nearest int.\n",
    "mean_G2 = df['G2'].mean()\n",
    "mean_G2 = int(mean_G2)\n",
    "df['G2']=df['G2'].fillna(mean_G2)\n",
    "df['G2'].info()\n",
    "df['G2'].value_counts()"
   ],
   "id": "1083eee3cd01962",
   "outputs": [
    {
     "name": "stdout",
     "output_type": "stream",
     "text": [
      "<class 'pandas.core.series.Series'>\n",
      "RangeIndex: 649 entries, 0 to 648\n",
      "Series name: G2\n",
      "Non-Null Count  Dtype  \n",
      "--------------  -----  \n",
      "649 non-null    float64\n",
      "dtypes: float64(1)\n",
      "memory usage: 5.2 KB\n"
     ]
    },
    {
     "data": {
      "text/plain": [
       "G2\n",
       "11.0    132\n",
       "12.0     85\n",
       "13.0     75\n",
       "10.0     75\n",
       "9.0      67\n",
       "14.0     54\n",
       "8.0      37\n",
       "15.0     36\n",
       "16.0     23\n",
       "17.0     18\n",
       "7.0      15\n",
       "18.0     14\n",
       "6.0       7\n",
       "0.0       7\n",
       "5.0       3\n",
       "19.0      1\n",
       "Name: count, dtype: int64"
      ]
     },
     "execution_count": 24,
     "metadata": {},
     "output_type": "execute_result"
    }
   ],
   "execution_count": 24
  },
  {
   "metadata": {
    "ExecuteTime": {
     "end_time": "2025-05-25T19:56:52.045912Z",
     "start_time": "2025-05-25T19:56:52.040611Z"
    }
   },
   "cell_type": "code",
   "source": [
    "Feature_1_counts = df['Feature_1'].value_counts()\n",
    "Feature_1_counts"
   ],
   "id": "92979a7f60b6904d",
   "outputs": [
    {
     "data": {
      "text/plain": [
       "Feature_1\n",
       "17.0    170\n",
       "16.0    169\n",
       "18.0    130\n",
       "15.0    103\n",
       "19.0     30\n",
       "20.0      6\n",
       "21.0      2\n",
       "22.0      1\n",
       "Name: count, dtype: int64"
      ]
     },
     "execution_count": 25,
     "metadata": {},
     "output_type": "execute_result"
    }
   ],
   "execution_count": 25
  },
  {
   "metadata": {
    "ExecuteTime": {
     "end_time": "2025-05-25T19:56:52.213658Z",
     "start_time": "2025-05-25T19:56:52.204505Z"
    }
   },
   "cell_type": "code",
   "source": [
    "# In this data set we would prefer median over mean as we don’t want to be skewed by outliers.\n",
    "med_Feature_1 = df['Feature_1'].median()\n",
    "df['Feature_1']=df['Feature_1'].fillna(med_Feature_1)\n",
    "df['Feature_1'].info()\n",
    "df['Feature_1'].value_counts()"
   ],
   "id": "3308090289ad3602",
   "outputs": [
    {
     "name": "stdout",
     "output_type": "stream",
     "text": [
      "<class 'pandas.core.series.Series'>\n",
      "RangeIndex: 649 entries, 0 to 648\n",
      "Series name: Feature_1\n",
      "Non-Null Count  Dtype  \n",
      "--------------  -----  \n",
      "649 non-null    float64\n",
      "dtypes: float64(1)\n",
      "memory usage: 5.2 KB\n"
     ]
    },
    {
     "data": {
      "text/plain": [
       "Feature_1\n",
       "17.0    208\n",
       "16.0    169\n",
       "18.0    130\n",
       "15.0    103\n",
       "19.0     30\n",
       "20.0      6\n",
       "21.0      2\n",
       "22.0      1\n",
       "Name: count, dtype: int64"
      ]
     },
     "execution_count": 26,
     "metadata": {},
     "output_type": "execute_result"
    }
   ],
   "execution_count": 26
  },
  {
   "metadata": {
    "ExecuteTime": {
     "end_time": "2025-05-25T19:56:52.370052Z",
     "start_time": "2025-05-25T19:56:52.364230Z"
    }
   },
   "cell_type": "code",
   "source": [
    "Feature_2_counts = df['Feature_2'].value_counts()\n",
    "Feature_2_counts"
   ],
   "id": "6d25fbf6b997c323",
   "outputs": [
    {
     "data": {
      "text/plain": [
       "Feature_2\n",
       "2.0    279\n",
       "1.0    204\n",
       "3.0     88\n",
       "4.0     32\n",
       "Name: count, dtype: int64"
      ]
     },
     "execution_count": 27,
     "metadata": {},
     "output_type": "execute_result"
    }
   ],
   "execution_count": 27
  },
  {
   "metadata": {
    "ExecuteTime": {
     "end_time": "2025-05-25T19:56:52.531546Z",
     "start_time": "2025-05-25T19:56:52.523223Z"
    }
   },
   "cell_type": "code",
   "source": [
    "# Again, we will use median here\n",
    "med_Feature_2 = df['Feature_2'].median()\n",
    "df['Feature_2']=df['Feature_2'].fillna(med_Feature_2)\n",
    "df['Feature_2'].info()\n",
    "df['Feature_2'].value_counts()"
   ],
   "id": "57e6d4a5a89fcdf",
   "outputs": [
    {
     "name": "stdout",
     "output_type": "stream",
     "text": [
      "<class 'pandas.core.series.Series'>\n",
      "RangeIndex: 649 entries, 0 to 648\n",
      "Series name: Feature_2\n",
      "Non-Null Count  Dtype  \n",
      "--------------  -----  \n",
      "649 non-null    float64\n",
      "dtypes: float64(1)\n",
      "memory usage: 5.2 KB\n"
     ]
    },
    {
     "data": {
      "text/plain": [
       "Feature_2\n",
       "2.0    325\n",
       "1.0    204\n",
       "3.0     88\n",
       "4.0     32\n",
       "Name: count, dtype: int64"
      ]
     },
     "execution_count": 28,
     "metadata": {},
     "output_type": "execute_result"
    }
   ],
   "execution_count": 28
  },
  {
   "metadata": {
    "ExecuteTime": {
     "end_time": "2025-05-25T19:56:52.694990Z",
     "start_time": "2025-05-25T19:56:52.688532Z"
    }
   },
   "cell_type": "code",
   "source": [
    "Feature_3_counts = df['Feature_3'].value_counts()\n",
    "Feature_3_counts"
   ],
   "id": "bca3483dbe61c68b",
   "outputs": [
    {
     "data": {
      "text/plain": [
       "Feature_3\n",
       "1.0    239\n",
       "2.0    137\n",
       "3.0    109\n",
       "4.0     85\n",
       "5.0     40\n",
       "Name: count, dtype: int64"
      ]
     },
     "execution_count": 29,
     "metadata": {},
     "output_type": "execute_result"
    }
   ],
   "execution_count": 29
  },
  {
   "metadata": {
    "ExecuteTime": {
     "end_time": "2025-05-25T19:56:52.865440Z",
     "start_time": "2025-05-25T19:56:52.852727Z"
    }
   },
   "cell_type": "code",
   "source": [
    "# Again, we will use median here\n",
    "med_Feature_3 = df['Feature_3'].median()\n",
    "df['Feature_3']=df['Feature_3'].fillna(med_Feature_3)\n",
    "df['Feature_3'].info()\n",
    "df['Feature_3'].value_counts()"
   ],
   "id": "35a48246d55c814d",
   "outputs": [
    {
     "name": "stdout",
     "output_type": "stream",
     "text": [
      "<class 'pandas.core.series.Series'>\n",
      "RangeIndex: 649 entries, 0 to 648\n",
      "Series name: Feature_3\n",
      "Non-Null Count  Dtype  \n",
      "--------------  -----  \n",
      "649 non-null    float64\n",
      "dtypes: float64(1)\n",
      "memory usage: 5.2 KB\n"
     ]
    },
    {
     "data": {
      "text/plain": [
       "Feature_3\n",
       "1.0    239\n",
       "2.0    176\n",
       "3.0    109\n",
       "4.0     85\n",
       "5.0     40\n",
       "Name: count, dtype: int64"
      ]
     },
     "execution_count": 30,
     "metadata": {},
     "output_type": "execute_result"
    }
   ],
   "execution_count": 30
  },
  {
   "metadata": {
    "ExecuteTime": {
     "end_time": "2025-05-25T19:56:53.120745Z",
     "start_time": "2025-05-25T19:56:53.102104Z"
    }
   },
   "cell_type": "code",
   "source": "df",
   "id": "df07dfa8de0df6df",
   "outputs": [
    {
     "data": {
      "text/plain": [
       "    school sex address famsize Pstatus  Medu  Fedu      Mjob      Fjob  \\\n",
       "0       GP   F       U     GT3       A     4   4.0   at_home   teacher   \n",
       "1       GP   F       U     GT3       T     1   1.0   at_home     other   \n",
       "2       GP   F       U     LE3       T     1   1.0   at_home     other   \n",
       "3       GP   F       U     GT3       T     4   2.0    health  services   \n",
       "4       GP   F       U     GT3       T     3   3.0     other     other   \n",
       "..     ...  ..     ...     ...     ...   ...   ...       ...       ...   \n",
       "644     MS   F       R     GT3       T     2   3.0  services     other   \n",
       "645     MS   F       U     LE3       T     3   1.0   teacher  services   \n",
       "646     MS   F       U     GT3       T     1   1.0     other     other   \n",
       "647     MS   M       U     LE3       T     3   1.0  services  services   \n",
       "648     MS   M       R     LE3       T     3   2.0  services     other   \n",
       "\n",
       "     reason  ... Dalc  health  absences  G1    G2  G3 Feature_1 Feature_2  \\\n",
       "0    course  ...    1       3       4.0   0  11.0  11      18.0       2.0   \n",
       "1    course  ...    1       3       2.0   9  11.0  11      17.0       2.0   \n",
       "2     other  ...    2       3       6.0  12  13.0  12      15.0       2.0   \n",
       "3      home  ...    1       5       0.0  14  14.0  14      15.0       3.0   \n",
       "4      home  ...    1       5       0.0  11  13.0  13      16.0       2.0   \n",
       "..      ...  ...  ...     ...       ...  ..   ...  ..       ...       ...   \n",
       "644  course  ...    1       5       4.0  10  11.0  10      19.0       3.0   \n",
       "645  course  ...    1       1       3.0  15  15.0  16      18.0       2.0   \n",
       "646  course  ...    1       5       6.0  11  12.0   9      18.0       2.0   \n",
       "647  course  ...    3       2       6.0  10  10.0  10      17.0       1.0   \n",
       "648  course  ...    3       5       4.0  10  11.0  11      18.0       1.0   \n",
       "\n",
       "    Feature_3 romantic  \n",
       "0         1.0       no  \n",
       "1         1.0       no  \n",
       "2         3.0       no  \n",
       "3         1.0      yes  \n",
       "4         2.0       no  \n",
       "..        ...      ...  \n",
       "644       2.0       no  \n",
       "645       1.0       no  \n",
       "646       1.0       no  \n",
       "647       4.0       no  \n",
       "648       4.0       no  \n",
       "\n",
       "[649 rows x 33 columns]"
      ],
      "text/html": [
       "<div>\n",
       "<style scoped>\n",
       "    .dataframe tbody tr th:only-of-type {\n",
       "        vertical-align: middle;\n",
       "    }\n",
       "\n",
       "    .dataframe tbody tr th {\n",
       "        vertical-align: top;\n",
       "    }\n",
       "\n",
       "    .dataframe thead th {\n",
       "        text-align: right;\n",
       "    }\n",
       "</style>\n",
       "<table border=\"1\" class=\"dataframe\">\n",
       "  <thead>\n",
       "    <tr style=\"text-align: right;\">\n",
       "      <th></th>\n",
       "      <th>school</th>\n",
       "      <th>sex</th>\n",
       "      <th>address</th>\n",
       "      <th>famsize</th>\n",
       "      <th>Pstatus</th>\n",
       "      <th>Medu</th>\n",
       "      <th>Fedu</th>\n",
       "      <th>Mjob</th>\n",
       "      <th>Fjob</th>\n",
       "      <th>reason</th>\n",
       "      <th>...</th>\n",
       "      <th>Dalc</th>\n",
       "      <th>health</th>\n",
       "      <th>absences</th>\n",
       "      <th>G1</th>\n",
       "      <th>G2</th>\n",
       "      <th>G3</th>\n",
       "      <th>Feature_1</th>\n",
       "      <th>Feature_2</th>\n",
       "      <th>Feature_3</th>\n",
       "      <th>romantic</th>\n",
       "    </tr>\n",
       "  </thead>\n",
       "  <tbody>\n",
       "    <tr>\n",
       "      <th>0</th>\n",
       "      <td>GP</td>\n",
       "      <td>F</td>\n",
       "      <td>U</td>\n",
       "      <td>GT3</td>\n",
       "      <td>A</td>\n",
       "      <td>4</td>\n",
       "      <td>4.0</td>\n",
       "      <td>at_home</td>\n",
       "      <td>teacher</td>\n",
       "      <td>course</td>\n",
       "      <td>...</td>\n",
       "      <td>1</td>\n",
       "      <td>3</td>\n",
       "      <td>4.0</td>\n",
       "      <td>0</td>\n",
       "      <td>11.0</td>\n",
       "      <td>11</td>\n",
       "      <td>18.0</td>\n",
       "      <td>2.0</td>\n",
       "      <td>1.0</td>\n",
       "      <td>no</td>\n",
       "    </tr>\n",
       "    <tr>\n",
       "      <th>1</th>\n",
       "      <td>GP</td>\n",
       "      <td>F</td>\n",
       "      <td>U</td>\n",
       "      <td>GT3</td>\n",
       "      <td>T</td>\n",
       "      <td>1</td>\n",
       "      <td>1.0</td>\n",
       "      <td>at_home</td>\n",
       "      <td>other</td>\n",
       "      <td>course</td>\n",
       "      <td>...</td>\n",
       "      <td>1</td>\n",
       "      <td>3</td>\n",
       "      <td>2.0</td>\n",
       "      <td>9</td>\n",
       "      <td>11.0</td>\n",
       "      <td>11</td>\n",
       "      <td>17.0</td>\n",
       "      <td>2.0</td>\n",
       "      <td>1.0</td>\n",
       "      <td>no</td>\n",
       "    </tr>\n",
       "    <tr>\n",
       "      <th>2</th>\n",
       "      <td>GP</td>\n",
       "      <td>F</td>\n",
       "      <td>U</td>\n",
       "      <td>LE3</td>\n",
       "      <td>T</td>\n",
       "      <td>1</td>\n",
       "      <td>1.0</td>\n",
       "      <td>at_home</td>\n",
       "      <td>other</td>\n",
       "      <td>other</td>\n",
       "      <td>...</td>\n",
       "      <td>2</td>\n",
       "      <td>3</td>\n",
       "      <td>6.0</td>\n",
       "      <td>12</td>\n",
       "      <td>13.0</td>\n",
       "      <td>12</td>\n",
       "      <td>15.0</td>\n",
       "      <td>2.0</td>\n",
       "      <td>3.0</td>\n",
       "      <td>no</td>\n",
       "    </tr>\n",
       "    <tr>\n",
       "      <th>3</th>\n",
       "      <td>GP</td>\n",
       "      <td>F</td>\n",
       "      <td>U</td>\n",
       "      <td>GT3</td>\n",
       "      <td>T</td>\n",
       "      <td>4</td>\n",
       "      <td>2.0</td>\n",
       "      <td>health</td>\n",
       "      <td>services</td>\n",
       "      <td>home</td>\n",
       "      <td>...</td>\n",
       "      <td>1</td>\n",
       "      <td>5</td>\n",
       "      <td>0.0</td>\n",
       "      <td>14</td>\n",
       "      <td>14.0</td>\n",
       "      <td>14</td>\n",
       "      <td>15.0</td>\n",
       "      <td>3.0</td>\n",
       "      <td>1.0</td>\n",
       "      <td>yes</td>\n",
       "    </tr>\n",
       "    <tr>\n",
       "      <th>4</th>\n",
       "      <td>GP</td>\n",
       "      <td>F</td>\n",
       "      <td>U</td>\n",
       "      <td>GT3</td>\n",
       "      <td>T</td>\n",
       "      <td>3</td>\n",
       "      <td>3.0</td>\n",
       "      <td>other</td>\n",
       "      <td>other</td>\n",
       "      <td>home</td>\n",
       "      <td>...</td>\n",
       "      <td>1</td>\n",
       "      <td>5</td>\n",
       "      <td>0.0</td>\n",
       "      <td>11</td>\n",
       "      <td>13.0</td>\n",
       "      <td>13</td>\n",
       "      <td>16.0</td>\n",
       "      <td>2.0</td>\n",
       "      <td>2.0</td>\n",
       "      <td>no</td>\n",
       "    </tr>\n",
       "    <tr>\n",
       "      <th>...</th>\n",
       "      <td>...</td>\n",
       "      <td>...</td>\n",
       "      <td>...</td>\n",
       "      <td>...</td>\n",
       "      <td>...</td>\n",
       "      <td>...</td>\n",
       "      <td>...</td>\n",
       "      <td>...</td>\n",
       "      <td>...</td>\n",
       "      <td>...</td>\n",
       "      <td>...</td>\n",
       "      <td>...</td>\n",
       "      <td>...</td>\n",
       "      <td>...</td>\n",
       "      <td>...</td>\n",
       "      <td>...</td>\n",
       "      <td>...</td>\n",
       "      <td>...</td>\n",
       "      <td>...</td>\n",
       "      <td>...</td>\n",
       "      <td>...</td>\n",
       "    </tr>\n",
       "    <tr>\n",
       "      <th>644</th>\n",
       "      <td>MS</td>\n",
       "      <td>F</td>\n",
       "      <td>R</td>\n",
       "      <td>GT3</td>\n",
       "      <td>T</td>\n",
       "      <td>2</td>\n",
       "      <td>3.0</td>\n",
       "      <td>services</td>\n",
       "      <td>other</td>\n",
       "      <td>course</td>\n",
       "      <td>...</td>\n",
       "      <td>1</td>\n",
       "      <td>5</td>\n",
       "      <td>4.0</td>\n",
       "      <td>10</td>\n",
       "      <td>11.0</td>\n",
       "      <td>10</td>\n",
       "      <td>19.0</td>\n",
       "      <td>3.0</td>\n",
       "      <td>2.0</td>\n",
       "      <td>no</td>\n",
       "    </tr>\n",
       "    <tr>\n",
       "      <th>645</th>\n",
       "      <td>MS</td>\n",
       "      <td>F</td>\n",
       "      <td>U</td>\n",
       "      <td>LE3</td>\n",
       "      <td>T</td>\n",
       "      <td>3</td>\n",
       "      <td>1.0</td>\n",
       "      <td>teacher</td>\n",
       "      <td>services</td>\n",
       "      <td>course</td>\n",
       "      <td>...</td>\n",
       "      <td>1</td>\n",
       "      <td>1</td>\n",
       "      <td>3.0</td>\n",
       "      <td>15</td>\n",
       "      <td>15.0</td>\n",
       "      <td>16</td>\n",
       "      <td>18.0</td>\n",
       "      <td>2.0</td>\n",
       "      <td>1.0</td>\n",
       "      <td>no</td>\n",
       "    </tr>\n",
       "    <tr>\n",
       "      <th>646</th>\n",
       "      <td>MS</td>\n",
       "      <td>F</td>\n",
       "      <td>U</td>\n",
       "      <td>GT3</td>\n",
       "      <td>T</td>\n",
       "      <td>1</td>\n",
       "      <td>1.0</td>\n",
       "      <td>other</td>\n",
       "      <td>other</td>\n",
       "      <td>course</td>\n",
       "      <td>...</td>\n",
       "      <td>1</td>\n",
       "      <td>5</td>\n",
       "      <td>6.0</td>\n",
       "      <td>11</td>\n",
       "      <td>12.0</td>\n",
       "      <td>9</td>\n",
       "      <td>18.0</td>\n",
       "      <td>2.0</td>\n",
       "      <td>1.0</td>\n",
       "      <td>no</td>\n",
       "    </tr>\n",
       "    <tr>\n",
       "      <th>647</th>\n",
       "      <td>MS</td>\n",
       "      <td>M</td>\n",
       "      <td>U</td>\n",
       "      <td>LE3</td>\n",
       "      <td>T</td>\n",
       "      <td>3</td>\n",
       "      <td>1.0</td>\n",
       "      <td>services</td>\n",
       "      <td>services</td>\n",
       "      <td>course</td>\n",
       "      <td>...</td>\n",
       "      <td>3</td>\n",
       "      <td>2</td>\n",
       "      <td>6.0</td>\n",
       "      <td>10</td>\n",
       "      <td>10.0</td>\n",
       "      <td>10</td>\n",
       "      <td>17.0</td>\n",
       "      <td>1.0</td>\n",
       "      <td>4.0</td>\n",
       "      <td>no</td>\n",
       "    </tr>\n",
       "    <tr>\n",
       "      <th>648</th>\n",
       "      <td>MS</td>\n",
       "      <td>M</td>\n",
       "      <td>R</td>\n",
       "      <td>LE3</td>\n",
       "      <td>T</td>\n",
       "      <td>3</td>\n",
       "      <td>2.0</td>\n",
       "      <td>services</td>\n",
       "      <td>other</td>\n",
       "      <td>course</td>\n",
       "      <td>...</td>\n",
       "      <td>3</td>\n",
       "      <td>5</td>\n",
       "      <td>4.0</td>\n",
       "      <td>10</td>\n",
       "      <td>11.0</td>\n",
       "      <td>11</td>\n",
       "      <td>18.0</td>\n",
       "      <td>1.0</td>\n",
       "      <td>4.0</td>\n",
       "      <td>no</td>\n",
       "    </tr>\n",
       "  </tbody>\n",
       "</table>\n",
       "<p>649 rows × 33 columns</p>\n",
       "</div>"
      ]
     },
     "execution_count": 31,
     "metadata": {},
     "output_type": "execute_result"
    }
   ],
   "execution_count": 31
  },
  {
   "metadata": {
    "ExecuteTime": {
     "end_time": "2025-05-25T19:56:53.371743Z",
     "start_time": "2025-05-25T19:56:53.358253Z"
    }
   },
   "cell_type": "code",
   "source": "df.info()",
   "id": "9702c09d6da3723b",
   "outputs": [
    {
     "name": "stdout",
     "output_type": "stream",
     "text": [
      "<class 'pandas.core.frame.DataFrame'>\n",
      "RangeIndex: 649 entries, 0 to 648\n",
      "Data columns (total 33 columns):\n",
      " #   Column      Non-Null Count  Dtype  \n",
      "---  ------      --------------  -----  \n",
      " 0   school      649 non-null    object \n",
      " 1   sex         649 non-null    object \n",
      " 2   address     649 non-null    object \n",
      " 3   famsize     649 non-null    object \n",
      " 4   Pstatus     649 non-null    object \n",
      " 5   Medu        649 non-null    int64  \n",
      " 6   Fedu        649 non-null    float64\n",
      " 7   Mjob        649 non-null    object \n",
      " 8   Fjob        649 non-null    object \n",
      " 9   reason      649 non-null    object \n",
      " 10  guardian    649 non-null    object \n",
      " 11  traveltime  649 non-null    float64\n",
      " 12  failures    649 non-null    int64  \n",
      " 13  schoolsup   649 non-null    object \n",
      " 14  famsup      649 non-null    object \n",
      " 15  paid        649 non-null    object \n",
      " 16  activities  649 non-null    object \n",
      " 17  nursery     649 non-null    object \n",
      " 18  higher      649 non-null    object \n",
      " 19  internet    649 non-null    object \n",
      " 20  famrel      649 non-null    int64  \n",
      " 21  freetime    649 non-null    float64\n",
      " 22  goout       649 non-null    int64  \n",
      " 23  Dalc        649 non-null    int64  \n",
      " 24  health      649 non-null    int64  \n",
      " 25  absences    649 non-null    float64\n",
      " 26  G1          649 non-null    int64  \n",
      " 27  G2          649 non-null    float64\n",
      " 28  G3          649 non-null    int64  \n",
      " 29  Feature_1   649 non-null    float64\n",
      " 30  Feature_2   649 non-null    float64\n",
      " 31  Feature_3   649 non-null    float64\n",
      " 32  romantic    649 non-null    object \n",
      "dtypes: float64(8), int64(8), object(17)\n",
      "memory usage: 167.4+ KB\n"
     ]
    }
   ],
   "execution_count": 32
  },
  {
   "metadata": {},
   "cell_type": "markdown",
   "source": "# Now, we can see that our data do not contain any missing values.",
   "id": "b871bc3d967c490a"
  },
  {
   "metadata": {
    "ExecuteTime": {
     "end_time": "2025-05-25T19:56:53.568351Z",
     "start_time": "2025-05-25T19:56:53.557406Z"
    }
   },
   "cell_type": "code",
   "source": [
    "failure_f1 = df.groupby(['Feature_1'])['failures'].sum().reset_index()\n",
    "failure_f1"
   ],
   "id": "3a0e80c387540a35",
   "outputs": [
    {
     "data": {
      "text/plain": [
       "   Feature_1  failures\n",
       "0       15.0         4\n",
       "1       16.0        21\n",
       "2       17.0        48\n",
       "3       18.0        34\n",
       "4       19.0        25\n",
       "5       20.0         5\n",
       "6       21.0         4\n",
       "7       22.0         3"
      ],
      "text/html": [
       "<div>\n",
       "<style scoped>\n",
       "    .dataframe tbody tr th:only-of-type {\n",
       "        vertical-align: middle;\n",
       "    }\n",
       "\n",
       "    .dataframe tbody tr th {\n",
       "        vertical-align: top;\n",
       "    }\n",
       "\n",
       "    .dataframe thead th {\n",
       "        text-align: right;\n",
       "    }\n",
       "</style>\n",
       "<table border=\"1\" class=\"dataframe\">\n",
       "  <thead>\n",
       "    <tr style=\"text-align: right;\">\n",
       "      <th></th>\n",
       "      <th>Feature_1</th>\n",
       "      <th>failures</th>\n",
       "    </tr>\n",
       "  </thead>\n",
       "  <tbody>\n",
       "    <tr>\n",
       "      <th>0</th>\n",
       "      <td>15.0</td>\n",
       "      <td>4</td>\n",
       "    </tr>\n",
       "    <tr>\n",
       "      <th>1</th>\n",
       "      <td>16.0</td>\n",
       "      <td>21</td>\n",
       "    </tr>\n",
       "    <tr>\n",
       "      <th>2</th>\n",
       "      <td>17.0</td>\n",
       "      <td>48</td>\n",
       "    </tr>\n",
       "    <tr>\n",
       "      <th>3</th>\n",
       "      <td>18.0</td>\n",
       "      <td>34</td>\n",
       "    </tr>\n",
       "    <tr>\n",
       "      <th>4</th>\n",
       "      <td>19.0</td>\n",
       "      <td>25</td>\n",
       "    </tr>\n",
       "    <tr>\n",
       "      <th>5</th>\n",
       "      <td>20.0</td>\n",
       "      <td>5</td>\n",
       "    </tr>\n",
       "    <tr>\n",
       "      <th>6</th>\n",
       "      <td>21.0</td>\n",
       "      <td>4</td>\n",
       "    </tr>\n",
       "    <tr>\n",
       "      <th>7</th>\n",
       "      <td>22.0</td>\n",
       "      <td>3</td>\n",
       "    </tr>\n",
       "  </tbody>\n",
       "</table>\n",
       "</div>"
      ]
     },
     "execution_count": 33,
     "metadata": {},
     "output_type": "execute_result"
    }
   ],
   "execution_count": 33
  },
  {
   "metadata": {
    "ExecuteTime": {
     "end_time": "2025-05-25T19:56:53.826451Z",
     "start_time": "2025-05-25T19:56:53.818473Z"
    }
   },
   "cell_type": "code",
   "source": [
    "health_f1 = df.groupby(['Feature_1'])['health'].mean().reset_index()\n",
    "health_f1"
   ],
   "id": "216c9c7409d1959a",
   "outputs": [
    {
     "data": {
      "text/plain": [
       "   Feature_1    health\n",
       "0       15.0  3.504854\n",
       "1       16.0  3.520710\n",
       "2       17.0  3.649038\n",
       "3       18.0  3.376923\n",
       "4       19.0  3.633333\n",
       "5       20.0  3.666667\n",
       "6       21.0  4.500000\n",
       "7       22.0  1.000000"
      ],
      "text/html": [
       "<div>\n",
       "<style scoped>\n",
       "    .dataframe tbody tr th:only-of-type {\n",
       "        vertical-align: middle;\n",
       "    }\n",
       "\n",
       "    .dataframe tbody tr th {\n",
       "        vertical-align: top;\n",
       "    }\n",
       "\n",
       "    .dataframe thead th {\n",
       "        text-align: right;\n",
       "    }\n",
       "</style>\n",
       "<table border=\"1\" class=\"dataframe\">\n",
       "  <thead>\n",
       "    <tr style=\"text-align: right;\">\n",
       "      <th></th>\n",
       "      <th>Feature_1</th>\n",
       "      <th>health</th>\n",
       "    </tr>\n",
       "  </thead>\n",
       "  <tbody>\n",
       "    <tr>\n",
       "      <th>0</th>\n",
       "      <td>15.0</td>\n",
       "      <td>3.504854</td>\n",
       "    </tr>\n",
       "    <tr>\n",
       "      <th>1</th>\n",
       "      <td>16.0</td>\n",
       "      <td>3.520710</td>\n",
       "    </tr>\n",
       "    <tr>\n",
       "      <th>2</th>\n",
       "      <td>17.0</td>\n",
       "      <td>3.649038</td>\n",
       "    </tr>\n",
       "    <tr>\n",
       "      <th>3</th>\n",
       "      <td>18.0</td>\n",
       "      <td>3.376923</td>\n",
       "    </tr>\n",
       "    <tr>\n",
       "      <th>4</th>\n",
       "      <td>19.0</td>\n",
       "      <td>3.633333</td>\n",
       "    </tr>\n",
       "    <tr>\n",
       "      <th>5</th>\n",
       "      <td>20.0</td>\n",
       "      <td>3.666667</td>\n",
       "    </tr>\n",
       "    <tr>\n",
       "      <th>6</th>\n",
       "      <td>21.0</td>\n",
       "      <td>4.500000</td>\n",
       "    </tr>\n",
       "    <tr>\n",
       "      <th>7</th>\n",
       "      <td>22.0</td>\n",
       "      <td>1.000000</td>\n",
       "    </tr>\n",
       "  </tbody>\n",
       "</table>\n",
       "</div>"
      ]
     },
     "execution_count": 34,
     "metadata": {},
     "output_type": "execute_result"
    }
   ],
   "execution_count": 34
  },
  {
   "metadata": {
    "ExecuteTime": {
     "end_time": "2025-05-25T19:56:53.975661Z",
     "start_time": "2025-05-25T19:56:53.967495Z"
    }
   },
   "cell_type": "code",
   "source": [
    "G3_f1 = df.groupby(['Feature_1'])['G3'].mean().reset_index()\n",
    "G3_f1"
   ],
   "id": "aec71228ce64672f",
   "outputs": [
    {
     "data": {
      "text/plain": [
       "   Feature_1         G3\n",
       "0       15.0  12.155340\n",
       "1       16.0  12.005917\n",
       "2       17.0  12.134615\n",
       "3       18.0  11.761538\n",
       "4       19.0   9.800000\n",
       "5       20.0  12.000000\n",
       "6       21.0  11.000000\n",
       "7       22.0   5.000000"
      ],
      "text/html": [
       "<div>\n",
       "<style scoped>\n",
       "    .dataframe tbody tr th:only-of-type {\n",
       "        vertical-align: middle;\n",
       "    }\n",
       "\n",
       "    .dataframe tbody tr th {\n",
       "        vertical-align: top;\n",
       "    }\n",
       "\n",
       "    .dataframe thead th {\n",
       "        text-align: right;\n",
       "    }\n",
       "</style>\n",
       "<table border=\"1\" class=\"dataframe\">\n",
       "  <thead>\n",
       "    <tr style=\"text-align: right;\">\n",
       "      <th></th>\n",
       "      <th>Feature_1</th>\n",
       "      <th>G3</th>\n",
       "    </tr>\n",
       "  </thead>\n",
       "  <tbody>\n",
       "    <tr>\n",
       "      <th>0</th>\n",
       "      <td>15.0</td>\n",
       "      <td>12.155340</td>\n",
       "    </tr>\n",
       "    <tr>\n",
       "      <th>1</th>\n",
       "      <td>16.0</td>\n",
       "      <td>12.005917</td>\n",
       "    </tr>\n",
       "    <tr>\n",
       "      <th>2</th>\n",
       "      <td>17.0</td>\n",
       "      <td>12.134615</td>\n",
       "    </tr>\n",
       "    <tr>\n",
       "      <th>3</th>\n",
       "      <td>18.0</td>\n",
       "      <td>11.761538</td>\n",
       "    </tr>\n",
       "    <tr>\n",
       "      <th>4</th>\n",
       "      <td>19.0</td>\n",
       "      <td>9.800000</td>\n",
       "    </tr>\n",
       "    <tr>\n",
       "      <th>5</th>\n",
       "      <td>20.0</td>\n",
       "      <td>12.000000</td>\n",
       "    </tr>\n",
       "    <tr>\n",
       "      <th>6</th>\n",
       "      <td>21.0</td>\n",
       "      <td>11.000000</td>\n",
       "    </tr>\n",
       "    <tr>\n",
       "      <th>7</th>\n",
       "      <td>22.0</td>\n",
       "      <td>5.000000</td>\n",
       "    </tr>\n",
       "  </tbody>\n",
       "</table>\n",
       "</div>"
      ]
     },
     "execution_count": 35,
     "metadata": {},
     "output_type": "execute_result"
    }
   ],
   "execution_count": 35
  },
  {
   "metadata": {
    "ExecuteTime": {
     "end_time": "2025-05-25T19:56:54.154630Z",
     "start_time": "2025-05-25T19:56:54.139033Z"
    }
   },
   "cell_type": "code",
   "source": [
    "Dalc_f1 = df.groupby(['Feature_1'])['Dalc'].value_counts().reset_index()\n",
    "Dalc_f1"
   ],
   "id": "88382576f2b7a1ba",
   "outputs": [
    {
     "data": {
      "text/plain": [
       "    Feature_1  Dalc  count\n",
       "0        15.0     1     79\n",
       "1        15.0     2     17\n",
       "2        15.0     3      6\n",
       "3        15.0     4      1\n",
       "4        16.0     1    126\n",
       "5        16.0     2     31\n",
       "6        16.0     3      7\n",
       "7        16.0     4      3\n",
       "8        16.0     5      2\n",
       "9        17.0     1    134\n",
       "10       17.0     2     44\n",
       "11       17.0     3     18\n",
       "12       17.0     5      8\n",
       "13       17.0     4      4\n",
       "14       18.0     1     89\n",
       "15       18.0     2     24\n",
       "16       18.0     3      7\n",
       "17       18.0     4      5\n",
       "18       18.0     5      5\n",
       "19       19.0     1     18\n",
       "20       19.0     3      5\n",
       "21       19.0     4      4\n",
       "22       19.0     2      3\n",
       "23       20.0     1      4\n",
       "24       20.0     2      2\n",
       "25       21.0     1      1\n",
       "26       21.0     5      1\n",
       "27       22.0     5      1"
      ],
      "text/html": [
       "<div>\n",
       "<style scoped>\n",
       "    .dataframe tbody tr th:only-of-type {\n",
       "        vertical-align: middle;\n",
       "    }\n",
       "\n",
       "    .dataframe tbody tr th {\n",
       "        vertical-align: top;\n",
       "    }\n",
       "\n",
       "    .dataframe thead th {\n",
       "        text-align: right;\n",
       "    }\n",
       "</style>\n",
       "<table border=\"1\" class=\"dataframe\">\n",
       "  <thead>\n",
       "    <tr style=\"text-align: right;\">\n",
       "      <th></th>\n",
       "      <th>Feature_1</th>\n",
       "      <th>Dalc</th>\n",
       "      <th>count</th>\n",
       "    </tr>\n",
       "  </thead>\n",
       "  <tbody>\n",
       "    <tr>\n",
       "      <th>0</th>\n",
       "      <td>15.0</td>\n",
       "      <td>1</td>\n",
       "      <td>79</td>\n",
       "    </tr>\n",
       "    <tr>\n",
       "      <th>1</th>\n",
       "      <td>15.0</td>\n",
       "      <td>2</td>\n",
       "      <td>17</td>\n",
       "    </tr>\n",
       "    <tr>\n",
       "      <th>2</th>\n",
       "      <td>15.0</td>\n",
       "      <td>3</td>\n",
       "      <td>6</td>\n",
       "    </tr>\n",
       "    <tr>\n",
       "      <th>3</th>\n",
       "      <td>15.0</td>\n",
       "      <td>4</td>\n",
       "      <td>1</td>\n",
       "    </tr>\n",
       "    <tr>\n",
       "      <th>4</th>\n",
       "      <td>16.0</td>\n",
       "      <td>1</td>\n",
       "      <td>126</td>\n",
       "    </tr>\n",
       "    <tr>\n",
       "      <th>5</th>\n",
       "      <td>16.0</td>\n",
       "      <td>2</td>\n",
       "      <td>31</td>\n",
       "    </tr>\n",
       "    <tr>\n",
       "      <th>6</th>\n",
       "      <td>16.0</td>\n",
       "      <td>3</td>\n",
       "      <td>7</td>\n",
       "    </tr>\n",
       "    <tr>\n",
       "      <th>7</th>\n",
       "      <td>16.0</td>\n",
       "      <td>4</td>\n",
       "      <td>3</td>\n",
       "    </tr>\n",
       "    <tr>\n",
       "      <th>8</th>\n",
       "      <td>16.0</td>\n",
       "      <td>5</td>\n",
       "      <td>2</td>\n",
       "    </tr>\n",
       "    <tr>\n",
       "      <th>9</th>\n",
       "      <td>17.0</td>\n",
       "      <td>1</td>\n",
       "      <td>134</td>\n",
       "    </tr>\n",
       "    <tr>\n",
       "      <th>10</th>\n",
       "      <td>17.0</td>\n",
       "      <td>2</td>\n",
       "      <td>44</td>\n",
       "    </tr>\n",
       "    <tr>\n",
       "      <th>11</th>\n",
       "      <td>17.0</td>\n",
       "      <td>3</td>\n",
       "      <td>18</td>\n",
       "    </tr>\n",
       "    <tr>\n",
       "      <th>12</th>\n",
       "      <td>17.0</td>\n",
       "      <td>5</td>\n",
       "      <td>8</td>\n",
       "    </tr>\n",
       "    <tr>\n",
       "      <th>13</th>\n",
       "      <td>17.0</td>\n",
       "      <td>4</td>\n",
       "      <td>4</td>\n",
       "    </tr>\n",
       "    <tr>\n",
       "      <th>14</th>\n",
       "      <td>18.0</td>\n",
       "      <td>1</td>\n",
       "      <td>89</td>\n",
       "    </tr>\n",
       "    <tr>\n",
       "      <th>15</th>\n",
       "      <td>18.0</td>\n",
       "      <td>2</td>\n",
       "      <td>24</td>\n",
       "    </tr>\n",
       "    <tr>\n",
       "      <th>16</th>\n",
       "      <td>18.0</td>\n",
       "      <td>3</td>\n",
       "      <td>7</td>\n",
       "    </tr>\n",
       "    <tr>\n",
       "      <th>17</th>\n",
       "      <td>18.0</td>\n",
       "      <td>4</td>\n",
       "      <td>5</td>\n",
       "    </tr>\n",
       "    <tr>\n",
       "      <th>18</th>\n",
       "      <td>18.0</td>\n",
       "      <td>5</td>\n",
       "      <td>5</td>\n",
       "    </tr>\n",
       "    <tr>\n",
       "      <th>19</th>\n",
       "      <td>19.0</td>\n",
       "      <td>1</td>\n",
       "      <td>18</td>\n",
       "    </tr>\n",
       "    <tr>\n",
       "      <th>20</th>\n",
       "      <td>19.0</td>\n",
       "      <td>3</td>\n",
       "      <td>5</td>\n",
       "    </tr>\n",
       "    <tr>\n",
       "      <th>21</th>\n",
       "      <td>19.0</td>\n",
       "      <td>4</td>\n",
       "      <td>4</td>\n",
       "    </tr>\n",
       "    <tr>\n",
       "      <th>22</th>\n",
       "      <td>19.0</td>\n",
       "      <td>2</td>\n",
       "      <td>3</td>\n",
       "    </tr>\n",
       "    <tr>\n",
       "      <th>23</th>\n",
       "      <td>20.0</td>\n",
       "      <td>1</td>\n",
       "      <td>4</td>\n",
       "    </tr>\n",
       "    <tr>\n",
       "      <th>24</th>\n",
       "      <td>20.0</td>\n",
       "      <td>2</td>\n",
       "      <td>2</td>\n",
       "    </tr>\n",
       "    <tr>\n",
       "      <th>25</th>\n",
       "      <td>21.0</td>\n",
       "      <td>1</td>\n",
       "      <td>1</td>\n",
       "    </tr>\n",
       "    <tr>\n",
       "      <th>26</th>\n",
       "      <td>21.0</td>\n",
       "      <td>5</td>\n",
       "      <td>1</td>\n",
       "    </tr>\n",
       "    <tr>\n",
       "      <th>27</th>\n",
       "      <td>22.0</td>\n",
       "      <td>5</td>\n",
       "      <td>1</td>\n",
       "    </tr>\n",
       "  </tbody>\n",
       "</table>\n",
       "</div>"
      ]
     },
     "execution_count": 36,
     "metadata": {},
     "output_type": "execute_result"
    }
   ],
   "execution_count": 36
  },
  {
   "metadata": {
    "ExecuteTime": {
     "end_time": "2025-05-25T19:56:54.639485Z",
     "start_time": "2025-05-25T19:56:54.350861Z"
    }
   },
   "cell_type": "code",
   "source": [
    "alco = df.groupby(['Feature_1', 'Dalc']).size().reset_index(name='Count')\n",
    "\n",
    "plt.figure(figsize=(16, 8))\n",
    "sns.barplot(data=alco, x='Feature_1', y='Count', hue='Dalc', palette='viridis')\n",
    "\n",
    "plt.title('Alcohol Consumption vs IITG Students', fontweight='bold')\n",
    "plt.xlabel('Feature_1 (e.g. Grade)', fontweight='bold')\n",
    "plt.ylabel('Number of Students', fontweight='bold')\n",
    "plt.xticks(rotation=45)\n",
    "plt.show()\n"
   ],
   "id": "90acc5dbd34536fb",
   "outputs": [
    {
     "data": {
      "text/plain": [
       "<Figure size 1600x800 with 1 Axes>"
      ],
      "image/png": "[encoded data removed]"
     },
     "metadata": {},
     "output_type": "display_data"
    }
   ],
   "execution_count": 37
  },
  {
   "metadata": {
    "ExecuteTime": {
     "end_time": "2025-05-25T19:56:54.736702Z",
     "start_time": "2025-05-25T19:56:54.723869Z"
    }
   },
   "cell_type": "code",
   "source": [
    "romantic_f1 = df.groupby(['Feature_1'])['romantic'].value_counts().reset_index()\n",
    "romantic_f1"
   ],
   "id": "eca6dbf81a60d420",
   "outputs": [
    {
     "data": {
      "text/plain": [
       "    Feature_1 romantic  count\n",
       "0        15.0       no     78\n",
       "1        15.0      yes     25\n",
       "2        16.0       no    118\n",
       "3        16.0      yes     51\n",
       "4        17.0       no    124\n",
       "5        17.0      yes     84\n",
       "6        18.0       no     72\n",
       "7        18.0      yes     58\n",
       "8        19.0       no     16\n",
       "9        19.0      yes     14\n",
       "10       20.0      yes      5\n",
       "11       20.0       no      1\n",
       "12       21.0       no      1\n",
       "13       21.0      yes      1\n",
       "14       22.0      yes      1"
      ],
      "text/html": [
       "<div>\n",
       "<style scoped>\n",
       "    .dataframe tbody tr th:only-of-type {\n",
       "        vertical-align: middle;\n",
       "    }\n",
       "\n",
       "    .dataframe tbody tr th {\n",
       "        vertical-align: top;\n",
       "    }\n",
       "\n",
       "    .dataframe thead th {\n",
       "        text-align: right;\n",
       "    }\n",
       "</style>\n",
       "<table border=\"1\" class=\"dataframe\">\n",
       "  <thead>\n",
       "    <tr style=\"text-align: right;\">\n",
       "      <th></th>\n",
       "      <th>Feature_1</th>\n",
       "      <th>romantic</th>\n",
       "      <th>count</th>\n",
       "    </tr>\n",
       "  </thead>\n",
       "  <tbody>\n",
       "    <tr>\n",
       "      <th>0</th>\n",
       "      <td>15.0</td>\n",
       "      <td>no</td>\n",
       "      <td>78</td>\n",
       "    </tr>\n",
       "    <tr>\n",
       "      <th>1</th>\n",
       "      <td>15.0</td>\n",
       "      <td>yes</td>\n",
       "      <td>25</td>\n",
       "    </tr>\n",
       "    <tr>\n",
       "      <th>2</th>\n",
       "      <td>16.0</td>\n",
       "      <td>no</td>\n",
       "      <td>118</td>\n",
       "    </tr>\n",
       "    <tr>\n",
       "      <th>3</th>\n",
       "      <td>16.0</td>\n",
       "      <td>yes</td>\n",
       "      <td>51</td>\n",
       "    </tr>\n",
       "    <tr>\n",
       "      <th>4</th>\n",
       "      <td>17.0</td>\n",
       "      <td>no</td>\n",
       "      <td>124</td>\n",
       "    </tr>\n",
       "    <tr>\n",
       "      <th>5</th>\n",
       "      <td>17.0</td>\n",
       "      <td>yes</td>\n",
       "      <td>84</td>\n",
       "    </tr>\n",
       "    <tr>\n",
       "      <th>6</th>\n",
       "      <td>18.0</td>\n",
       "      <td>no</td>\n",
       "      <td>72</td>\n",
       "    </tr>\n",
       "    <tr>\n",
       "      <th>7</th>\n",
       "      <td>18.0</td>\n",
       "      <td>yes</td>\n",
       "      <td>58</td>\n",
       "    </tr>\n",
       "    <tr>\n",
       "      <th>8</th>\n",
       "      <td>19.0</td>\n",
       "      <td>no</td>\n",
       "      <td>16</td>\n",
       "    </tr>\n",
       "    <tr>\n",
       "      <th>9</th>\n",
       "      <td>19.0</td>\n",
       "      <td>yes</td>\n",
       "      <td>14</td>\n",
       "    </tr>\n",
       "    <tr>\n",
       "      <th>10</th>\n",
       "      <td>20.0</td>\n",
       "      <td>yes</td>\n",
       "      <td>5</td>\n",
       "    </tr>\n",
       "    <tr>\n",
       "      <th>11</th>\n",
       "      <td>20.0</td>\n",
       "      <td>no</td>\n",
       "      <td>1</td>\n",
       "    </tr>\n",
       "    <tr>\n",
       "      <th>12</th>\n",
       "      <td>21.0</td>\n",
       "      <td>no</td>\n",
       "      <td>1</td>\n",
       "    </tr>\n",
       "    <tr>\n",
       "      <th>13</th>\n",
       "      <td>21.0</td>\n",
       "      <td>yes</td>\n",
       "      <td>1</td>\n",
       "    </tr>\n",
       "    <tr>\n",
       "      <th>14</th>\n",
       "      <td>22.0</td>\n",
       "      <td>yes</td>\n",
       "      <td>1</td>\n",
       "    </tr>\n",
       "  </tbody>\n",
       "</table>\n",
       "</div>"
      ]
     },
     "execution_count": 38,
     "metadata": {},
     "output_type": "execute_result"
    }
   ],
   "execution_count": 38
  },
  {
   "metadata": {
    "ExecuteTime": {
     "end_time": "2025-05-25T19:56:54.839783Z",
     "start_time": "2025-05-25T19:56:54.834616Z"
    }
   },
   "cell_type": "code",
   "source": "print(df.Feature_1.value_counts())",
   "id": "66a1593918b203b5",
   "outputs": [
    {
     "name": "stdout",
     "output_type": "stream",
     "text": [
      "Feature_1\n",
      "17.0    208\n",
      "16.0    169\n",
      "18.0    130\n",
      "15.0    103\n",
      "19.0     30\n",
      "20.0      6\n",
      "21.0      2\n",
      "22.0      1\n",
      "Name: count, dtype: int64\n"
     ]
    }
   ],
   "execution_count": 39
  },
  {
   "metadata": {
    "ExecuteTime": {
     "end_time": "2025-05-25T19:56:55.142275Z",
     "start_time": "2025-05-25T19:56:54.941380Z"
    }
   },
   "cell_type": "code",
   "source": [
    "grp=df.groupby(['Feature_1'])['Feature_1'].value_counts().reset_index().sort_values(by='Feature_1', ascending=False)\n",
    "grp\n",
    "ab = df['Feature_1'].value_counts().sort_index().reset_index()\n",
    "ab.columns = ['Feature_1', 'Count']\n",
    "plt.figure(figsize=(16, 8))\n",
    "sns.barplot(data=ab, x='Feature_1', y='Count', palette='viridis')\n",
    "plt.title('AGE V/S NUMB. OF STUDS DISTRIBUTION',fontweight='bold')\n",
    "plt.xlabel('AGE',fontweight='bold')\n",
    "plt.ylabel('NUMBER OF STUDS',fontweight='bold')\n",
    "plt.show()"
   ],
   "id": "9ce59a0a14154beb",
   "outputs": [
    {
     "name": "stderr",
     "output_type": "stream",
     "text": [
      "C:\\Users\\user\\AppData\\Local\\Temp\\ipykernel_38332\\3682433261.py:6: FutureWarning: \n",
      "\n",
      "Passing `palette` without assigning `hue` is deprecated and will be removed in v0.14.0. Assign the `x` variable to `hue` and set `legend=False` for the same effect.\n",
      "\n",
      "  sns.barplot(data=ab, x='Feature_1', y='Count', palette='viridis')\n"
     ]
    },
    {
     "data": {
      "text/plain": [
       "<Figure size 1600x800 with 1 Axes>"
      ],
      "image/png": "[encoded data removed]"
     },
     "metadata": {},
     "output_type": "display_data"
    }
   ],
   "execution_count": 40
  },
  {
   "metadata": {
    "ExecuteTime": {
     "end_time": "2025-05-25T19:56:55.164070Z",
     "start_time": "2025-05-25T19:56:55.152608Z"
    }
   },
   "cell_type": "code",
   "source": [
    "school_f1 = df.groupby(['Feature_1'])['school'].value_counts().reset_index()\n",
    "school_f1"
   ],
   "id": "a7c12e06fdf6fe4a",
   "outputs": [
    {
     "data": {
      "text/plain": [
       "    Feature_1 school  count\n",
       "0        15.0     GP     79\n",
       "1        15.0     MS     24\n",
       "2        16.0     GP    105\n",
       "3        16.0     MS     64\n",
       "4        17.0     GP    140\n",
       "5        17.0     MS     68\n",
       "6        18.0     GP     76\n",
       "7        18.0     MS     54\n",
       "8        19.0     GP     16\n",
       "9        19.0     MS     14\n",
       "10       20.0     GP      4\n",
       "11       20.0     MS      2\n",
       "12       21.0     GP      2\n",
       "13       22.0     GP      1"
      ],
      "text/html": [
       "<div>\n",
       "<style scoped>\n",
       "    .dataframe tbody tr th:only-of-type {\n",
       "        vertical-align: middle;\n",
       "    }\n",
       "\n",
       "    .dataframe tbody tr th {\n",
       "        vertical-align: top;\n",
       "    }\n",
       "\n",
       "    .dataframe thead th {\n",
       "        text-align: right;\n",
       "    }\n",
       "</style>\n",
       "<table border=\"1\" class=\"dataframe\">\n",
       "  <thead>\n",
       "    <tr style=\"text-align: right;\">\n",
       "      <th></th>\n",
       "      <th>Feature_1</th>\n",
       "      <th>school</th>\n",
       "      <th>count</th>\n",
       "    </tr>\n",
       "  </thead>\n",
       "  <tbody>\n",
       "    <tr>\n",
       "      <th>0</th>\n",
       "      <td>15.0</td>\n",
       "      <td>GP</td>\n",
       "      <td>79</td>\n",
       "    </tr>\n",
       "    <tr>\n",
       "      <th>1</th>\n",
       "      <td>15.0</td>\n",
       "      <td>MS</td>\n",
       "      <td>24</td>\n",
       "    </tr>\n",
       "    <tr>\n",
       "      <th>2</th>\n",
       "      <td>16.0</td>\n",
       "      <td>GP</td>\n",
       "      <td>105</td>\n",
       "    </tr>\n",
       "    <tr>\n",
       "      <th>3</th>\n",
       "      <td>16.0</td>\n",
       "      <td>MS</td>\n",
       "      <td>64</td>\n",
       "    </tr>\n",
       "    <tr>\n",
       "      <th>4</th>\n",
       "      <td>17.0</td>\n",
       "      <td>GP</td>\n",
       "      <td>140</td>\n",
       "    </tr>\n",
       "    <tr>\n",
       "      <th>5</th>\n",
       "      <td>17.0</td>\n",
       "      <td>MS</td>\n",
       "      <td>68</td>\n",
       "    </tr>\n",
       "    <tr>\n",
       "      <th>6</th>\n",
       "      <td>18.0</td>\n",
       "      <td>GP</td>\n",
       "      <td>76</td>\n",
       "    </tr>\n",
       "    <tr>\n",
       "      <th>7</th>\n",
       "      <td>18.0</td>\n",
       "      <td>MS</td>\n",
       "      <td>54</td>\n",
       "    </tr>\n",
       "    <tr>\n",
       "      <th>8</th>\n",
       "      <td>19.0</td>\n",
       "      <td>GP</td>\n",
       "      <td>16</td>\n",
       "    </tr>\n",
       "    <tr>\n",
       "      <th>9</th>\n",
       "      <td>19.0</td>\n",
       "      <td>MS</td>\n",
       "      <td>14</td>\n",
       "    </tr>\n",
       "    <tr>\n",
       "      <th>10</th>\n",
       "      <td>20.0</td>\n",
       "      <td>GP</td>\n",
       "      <td>4</td>\n",
       "    </tr>\n",
       "    <tr>\n",
       "      <th>11</th>\n",
       "      <td>20.0</td>\n",
       "      <td>MS</td>\n",
       "      <td>2</td>\n",
       "    </tr>\n",
       "    <tr>\n",
       "      <th>12</th>\n",
       "      <td>21.0</td>\n",
       "      <td>GP</td>\n",
       "      <td>2</td>\n",
       "    </tr>\n",
       "    <tr>\n",
       "      <th>13</th>\n",
       "      <td>22.0</td>\n",
       "      <td>GP</td>\n",
       "      <td>1</td>\n",
       "    </tr>\n",
       "  </tbody>\n",
       "</table>\n",
       "</div>"
      ]
     },
     "execution_count": 41,
     "metadata": {},
     "output_type": "execute_result"
    }
   ],
   "execution_count": 41
  },
  {
   "metadata": {
    "ExecuteTime": {
     "end_time": "2025-05-25T19:56:55.247953Z",
     "start_time": "2025-05-25T19:56:55.244964Z"
    }
   },
   "cell_type": "code",
   "source": [
    "# So overall, we can note that feature 1 denotes age.\n",
    "# 1). By value count we can see that maxi. no. of studs are from 16-19 grp which means it corresponds to the age group of the students which are present in college.\n",
    "# 2). Also, from Dalc v/s Feature 1 dataset we can see that teenage students like 16/17 drink once every week."
   ],
   "id": "380b6dee0b26bcb0",
   "outputs": [],
   "execution_count": 42
  },
  {
   "metadata": {
    "ExecuteTime": {
     "end_time": "2025-05-25T19:56:55.376523Z",
     "start_time": "2025-05-25T19:56:55.371636Z"
    }
   },
   "cell_type": "code",
   "source": "print(df.Feature_2.value_counts())",
   "id": "ae66a62a51df8a0f",
   "outputs": [
    {
     "name": "stdout",
     "output_type": "stream",
     "text": [
      "Feature_2\n",
      "2.0    325\n",
      "1.0    204\n",
      "3.0     88\n",
      "4.0     32\n",
      "Name: count, dtype: int64\n"
     ]
    }
   ],
   "execution_count": 43
  },
  {
   "metadata": {
    "ExecuteTime": {
     "end_time": "2025-05-25T19:56:55.462831Z",
     "start_time": "2025-05-25T19:56:55.452529Z"
    }
   },
   "cell_type": "code",
   "source": [
    "romantic_f2 = df.groupby(['Feature_2'])['romantic'].value_counts().reset_index()\n",
    "romantic_f2"
   ],
   "id": "12b19f0749edad6",
   "outputs": [
    {
     "data": {
      "text/plain": [
       "   Feature_2 romantic  count\n",
       "0        1.0       no    138\n",
       "1        1.0      yes     66\n",
       "2        2.0       no    203\n",
       "3        2.0      yes    122\n",
       "4        3.0       no     45\n",
       "5        3.0      yes     43\n",
       "6        4.0       no     24\n",
       "7        4.0      yes      8"
      ],
      "text/html": [
       "<div>\n",
       "<style scoped>\n",
       "    .dataframe tbody tr th:only-of-type {\n",
       "        vertical-align: middle;\n",
       "    }\n",
       "\n",
       "    .dataframe tbody tr th {\n",
       "        vertical-align: top;\n",
       "    }\n",
       "\n",
       "    .dataframe thead th {\n",
       "        text-align: right;\n",
       "    }\n",
       "</style>\n",
       "<table border=\"1\" class=\"dataframe\">\n",
       "  <thead>\n",
       "    <tr style=\"text-align: right;\">\n",
       "      <th></th>\n",
       "      <th>Feature_2</th>\n",
       "      <th>romantic</th>\n",
       "      <th>count</th>\n",
       "    </tr>\n",
       "  </thead>\n",
       "  <tbody>\n",
       "    <tr>\n",
       "      <th>0</th>\n",
       "      <td>1.0</td>\n",
       "      <td>no</td>\n",
       "      <td>138</td>\n",
       "    </tr>\n",
       "    <tr>\n",
       "      <th>1</th>\n",
       "      <td>1.0</td>\n",
       "      <td>yes</td>\n",
       "      <td>66</td>\n",
       "    </tr>\n",
       "    <tr>\n",
       "      <th>2</th>\n",
       "      <td>2.0</td>\n",
       "      <td>no</td>\n",
       "      <td>203</td>\n",
       "    </tr>\n",
       "    <tr>\n",
       "      <th>3</th>\n",
       "      <td>2.0</td>\n",
       "      <td>yes</td>\n",
       "      <td>122</td>\n",
       "    </tr>\n",
       "    <tr>\n",
       "      <th>4</th>\n",
       "      <td>3.0</td>\n",
       "      <td>no</td>\n",
       "      <td>45</td>\n",
       "    </tr>\n",
       "    <tr>\n",
       "      <th>5</th>\n",
       "      <td>3.0</td>\n",
       "      <td>yes</td>\n",
       "      <td>43</td>\n",
       "    </tr>\n",
       "    <tr>\n",
       "      <th>6</th>\n",
       "      <td>4.0</td>\n",
       "      <td>no</td>\n",
       "      <td>24</td>\n",
       "    </tr>\n",
       "    <tr>\n",
       "      <th>7</th>\n",
       "      <td>4.0</td>\n",
       "      <td>yes</td>\n",
       "      <td>8</td>\n",
       "    </tr>\n",
       "  </tbody>\n",
       "</table>\n",
       "</div>"
      ]
     },
     "execution_count": 44,
     "metadata": {},
     "output_type": "execute_result"
    }
   ],
   "execution_count": 44
  },
  {
   "metadata": {
    "ExecuteTime": {
     "end_time": "2025-05-25T19:56:55.541223Z",
     "start_time": "2025-05-25T19:56:55.534113Z"
    }
   },
   "cell_type": "code",
   "source": [
    "failure_f2 = df.groupby(['Feature_2'])['failures'].mean().reset_index()\n",
    "failure_f2"
   ],
   "id": "d0ed3957c1177ab4",
   "outputs": [
    {
     "data": {
      "text/plain": [
       "   Feature_2  failures\n",
       "0        1.0  0.333333\n",
       "1        2.0  0.200000\n",
       "2        3.0  0.102273\n",
       "3        4.0  0.062500"
      ],
      "text/html": [
       "<div>\n",
       "<style scoped>\n",
       "    .dataframe tbody tr th:only-of-type {\n",
       "        vertical-align: middle;\n",
       "    }\n",
       "\n",
       "    .dataframe tbody tr th {\n",
       "        vertical-align: top;\n",
       "    }\n",
       "\n",
       "    .dataframe thead th {\n",
       "        text-align: right;\n",
       "    }\n",
       "</style>\n",
       "<table border=\"1\" class=\"dataframe\">\n",
       "  <thead>\n",
       "    <tr style=\"text-align: right;\">\n",
       "      <th></th>\n",
       "      <th>Feature_2</th>\n",
       "      <th>failures</th>\n",
       "    </tr>\n",
       "  </thead>\n",
       "  <tbody>\n",
       "    <tr>\n",
       "      <th>0</th>\n",
       "      <td>1.0</td>\n",
       "      <td>0.333333</td>\n",
       "    </tr>\n",
       "    <tr>\n",
       "      <th>1</th>\n",
       "      <td>2.0</td>\n",
       "      <td>0.200000</td>\n",
       "    </tr>\n",
       "    <tr>\n",
       "      <th>2</th>\n",
       "      <td>3.0</td>\n",
       "      <td>0.102273</td>\n",
       "    </tr>\n",
       "    <tr>\n",
       "      <th>3</th>\n",
       "      <td>4.0</td>\n",
       "      <td>0.062500</td>\n",
       "    </tr>\n",
       "  </tbody>\n",
       "</table>\n",
       "</div>"
      ]
     },
     "execution_count": 45,
     "metadata": {},
     "output_type": "execute_result"
    }
   ],
   "execution_count": 45
  },
  {
   "metadata": {
    "ExecuteTime": {
     "end_time": "2025-05-25T19:56:55.776077Z",
     "start_time": "2025-05-25T19:56:55.713270Z"
    }
   },
   "cell_type": "code",
   "source": [
    "\n",
    "ales = df.groupby(['Feature_2'])[['failures']].mean().reset_index()\n",
    "\n",
    "labels = ales['Feature_2']\n",
    "values = ales['failures']\n",
    "\n",
    "fig, ax = plt.subplots(figsize=(10, 7))\n",
    "ax.pie(values, labels=labels, autopct='%1.1f%%', startangle=90)\n",
    "ax.set_title('Average Failures by Feature_2', fontweight='bold')\n",
    "plt.show()\n"
   ],
   "id": "cf22166c074a59a9",
   "outputs": [
    {
     "data": {
      "text/plain": [
       "<Figure size 1000x700 with 1 Axes>"
      ],
      "image/png": "[encoded data removed]"
     },
     "metadata": {},
     "output_type": "display_data"
    }
   ],
   "execution_count": 46
  },
  {
   "metadata": {
    "ExecuteTime": {
     "end_time": "2025-05-25T19:56:55.853121Z",
     "start_time": "2025-05-25T19:56:55.849913Z"
    }
   },
   "cell_type": "code",
   "source": "# So, it is clear from Feature_2 v/s failure data table that Feature_2 may represent no. of study hours of the student. The student who studies more is less likely to fail.",
   "id": "e1492ca313a5239c",
   "outputs": [],
   "execution_count": 47
  },
  {
   "metadata": {
    "ExecuteTime": {
     "end_time": "2025-05-25T19:56:55.911069Z",
     "start_time": "2025-05-25T19:56:55.907700Z"
    }
   },
   "cell_type": "code",
   "source": "#Also, from the data we can identify that Feature_3 denotes the overall educational status of the student as per the no. of institutes he/she attended and also the participation in activities.",
   "id": "655fe63ac71f12b",
   "outputs": [],
   "execution_count": 48
  },
  {
   "metadata": {
    "ExecuteTime": {
     "end_time": "2025-05-25T19:58:57.085865Z",
     "start_time": "2025-05-25T19:58:57.076304Z"
    }
   },
   "cell_type": "code",
   "source": [
    "alc_gds = df.groupby(['Dalc'])['G3'].mean().reset_index()\n",
    "alc_gds"
   ],
   "id": "367e46423c5e70a7",
   "outputs": [
    {
     "data": {
      "text/plain": [
       "   Dalc         G3\n",
       "0     1  12.299335\n",
       "1     2  11.363636\n",
       "2     3  11.139535\n",
       "3     4   8.941176\n",
       "4     5  10.235294"
      ],
      "text/html": [
       "<div>\n",
       "<style scoped>\n",
       "    .dataframe tbody tr th:only-of-type {\n",
       "        vertical-align: middle;\n",
       "    }\n",
       "\n",
       "    .dataframe tbody tr th {\n",
       "        vertical-align: top;\n",
       "    }\n",
       "\n",
       "    .dataframe thead th {\n",
       "        text-align: right;\n",
       "    }\n",
       "</style>\n",
       "<table border=\"1\" class=\"dataframe\">\n",
       "  <thead>\n",
       "    <tr style=\"text-align: right;\">\n",
       "      <th></th>\n",
       "      <th>Dalc</th>\n",
       "      <th>G3</th>\n",
       "    </tr>\n",
       "  </thead>\n",
       "  <tbody>\n",
       "    <tr>\n",
       "      <th>0</th>\n",
       "      <td>1</td>\n",
       "      <td>12.299335</td>\n",
       "    </tr>\n",
       "    <tr>\n",
       "      <th>1</th>\n",
       "      <td>2</td>\n",
       "      <td>11.363636</td>\n",
       "    </tr>\n",
       "    <tr>\n",
       "      <th>2</th>\n",
       "      <td>3</td>\n",
       "      <td>11.139535</td>\n",
       "    </tr>\n",
       "    <tr>\n",
       "      <th>3</th>\n",
       "      <td>4</td>\n",
       "      <td>8.941176</td>\n",
       "    </tr>\n",
       "    <tr>\n",
       "      <th>4</th>\n",
       "      <td>5</td>\n",
       "      <td>10.235294</td>\n",
       "    </tr>\n",
       "  </tbody>\n",
       "</table>\n",
       "</div>"
      ]
     },
     "execution_count": 50,
     "metadata": {},
     "output_type": "execute_result"
    }
   ],
   "execution_count": 50
  },
  {
   "metadata": {
    "ExecuteTime": {
     "end_time": "2025-05-25T20:00:38.287142Z",
     "start_time": "2025-05-25T20:00:38.278429Z"
    }
   },
   "cell_type": "code",
   "source": [
    "famrel_gds = df.groupby(['famrel'])['G3'].mean().reset_index()\n",
    "famrel_gds"
   ],
   "id": "572d42d1482d6668",
   "outputs": [
    {
     "data": {
      "text/plain": [
       "   famrel         G3\n",
       "0       1  10.636364\n",
       "1       2  10.862069\n",
       "2       3  11.594059\n",
       "3       4  12.343849\n",
       "4       5  11.633333"
      ],
      "text/html": [
       "<div>\n",
       "<style scoped>\n",
       "    .dataframe tbody tr th:only-of-type {\n",
       "        vertical-align: middle;\n",
       "    }\n",
       "\n",
       "    .dataframe tbody tr th {\n",
       "        vertical-align: top;\n",
       "    }\n",
       "\n",
       "    .dataframe thead th {\n",
       "        text-align: right;\n",
       "    }\n",
       "</style>\n",
       "<table border=\"1\" class=\"dataframe\">\n",
       "  <thead>\n",
       "    <tr style=\"text-align: right;\">\n",
       "      <th></th>\n",
       "      <th>famrel</th>\n",
       "      <th>G3</th>\n",
       "    </tr>\n",
       "  </thead>\n",
       "  <tbody>\n",
       "    <tr>\n",
       "      <th>0</th>\n",
       "      <td>1</td>\n",
       "      <td>10.636364</td>\n",
       "    </tr>\n",
       "    <tr>\n",
       "      <th>1</th>\n",
       "      <td>2</td>\n",
       "      <td>10.862069</td>\n",
       "    </tr>\n",
       "    <tr>\n",
       "      <th>2</th>\n",
       "      <td>3</td>\n",
       "      <td>11.594059</td>\n",
       "    </tr>\n",
       "    <tr>\n",
       "      <th>3</th>\n",
       "      <td>4</td>\n",
       "      <td>12.343849</td>\n",
       "    </tr>\n",
       "    <tr>\n",
       "      <th>4</th>\n",
       "      <td>5</td>\n",
       "      <td>11.633333</td>\n",
       "    </tr>\n",
       "  </tbody>\n",
       "</table>\n",
       "</div>"
      ]
     },
     "execution_count": 52,
     "metadata": {},
     "output_type": "execute_result"
    }
   ],
   "execution_count": 52
  },
  {
   "metadata": {
    "ExecuteTime": {
     "end_time": "2025-05-25T20:02:55.370353Z",
     "start_time": "2025-05-25T20:02:55.359444Z"
    }
   },
   "cell_type": "code",
   "source": [
    "Mjob_Pstatus = df.groupby(['Mjob'])['Pstatus'].value_counts().reset_index()\n",
    "Mjob_Pstatus"
   ],
   "id": "6c79e7012f0a74ff",
   "outputs": [
    {
     "data": {
      "text/plain": [
       "       Mjob Pstatus  count\n",
       "0   at_home       T    122\n",
       "1   at_home       A     13\n",
       "2    health       T     43\n",
       "3    health       A      5\n",
       "4     other       T    223\n",
       "5     other       A     35\n",
       "6  services       T    116\n",
       "7  services       A     20\n",
       "8   teacher       T     65\n",
       "9   teacher       A      7"
      ],
      "text/html": [
       "<div>\n",
       "<style scoped>\n",
       "    .dataframe tbody tr th:only-of-type {\n",
       "        vertical-align: middle;\n",
       "    }\n",
       "\n",
       "    .dataframe tbody tr th {\n",
       "        vertical-align: top;\n",
       "    }\n",
       "\n",
       "    .dataframe thead th {\n",
       "        text-align: right;\n",
       "    }\n",
       "</style>\n",
       "<table border=\"1\" class=\"dataframe\">\n",
       "  <thead>\n",
       "    <tr style=\"text-align: right;\">\n",
       "      <th></th>\n",
       "      <th>Mjob</th>\n",
       "      <th>Pstatus</th>\n",
       "      <th>count</th>\n",
       "    </tr>\n",
       "  </thead>\n",
       "  <tbody>\n",
       "    <tr>\n",
       "      <th>0</th>\n",
       "      <td>at_home</td>\n",
       "      <td>T</td>\n",
       "      <td>122</td>\n",
       "    </tr>\n",
       "    <tr>\n",
       "      <th>1</th>\n",
       "      <td>at_home</td>\n",
       "      <td>A</td>\n",
       "      <td>13</td>\n",
       "    </tr>\n",
       "    <tr>\n",
       "      <th>2</th>\n",
       "      <td>health</td>\n",
       "      <td>T</td>\n",
       "      <td>43</td>\n",
       "    </tr>\n",
       "    <tr>\n",
       "      <th>3</th>\n",
       "      <td>health</td>\n",
       "      <td>A</td>\n",
       "      <td>5</td>\n",
       "    </tr>\n",
       "    <tr>\n",
       "      <th>4</th>\n",
       "      <td>other</td>\n",
       "      <td>T</td>\n",
       "      <td>223</td>\n",
       "    </tr>\n",
       "    <tr>\n",
       "      <th>5</th>\n",
       "      <td>other</td>\n",
       "      <td>A</td>\n",
       "      <td>35</td>\n",
       "    </tr>\n",
       "    <tr>\n",
       "      <th>6</th>\n",
       "      <td>services</td>\n",
       "      <td>T</td>\n",
       "      <td>116</td>\n",
       "    </tr>\n",
       "    <tr>\n",
       "      <th>7</th>\n",
       "      <td>services</td>\n",
       "      <td>A</td>\n",
       "      <td>20</td>\n",
       "    </tr>\n",
       "    <tr>\n",
       "      <th>8</th>\n",
       "      <td>teacher</td>\n",
       "      <td>T</td>\n",
       "      <td>65</td>\n",
       "    </tr>\n",
       "    <tr>\n",
       "      <th>9</th>\n",
       "      <td>teacher</td>\n",
       "      <td>A</td>\n",
       "      <td>7</td>\n",
       "    </tr>\n",
       "  </tbody>\n",
       "</table>\n",
       "</div>"
      ]
     },
     "execution_count": 54,
     "metadata": {},
     "output_type": "execute_result"
    }
   ],
   "execution_count": 54
  },
  {
   "metadata": {
    "ExecuteTime": {
     "end_time": "2025-05-25T20:04:29.270152Z",
     "start_time": "2025-05-25T20:04:29.262990Z"
    }
   },
   "cell_type": "code",
   "source": [
    "activities_gds = df.groupby(['activities'])['G3'].mean().reset_index()\n",
    "activities_gds"
   ],
   "id": "b39b5bda98a9d2fa",
   "outputs": [
    {
     "data": {
      "text/plain": [
       "  activities         G3\n",
       "0         no  11.718563\n",
       "1        yes  12.104762"
      ],
      "text/html": [
       "<div>\n",
       "<style scoped>\n",
       "    .dataframe tbody tr th:only-of-type {\n",
       "        vertical-align: middle;\n",
       "    }\n",
       "\n",
       "    .dataframe tbody tr th {\n",
       "        vertical-align: top;\n",
       "    }\n",
       "\n",
       "    .dataframe thead th {\n",
       "        text-align: right;\n",
       "    }\n",
       "</style>\n",
       "<table border=\"1\" class=\"dataframe\">\n",
       "  <thead>\n",
       "    <tr style=\"text-align: right;\">\n",
       "      <th></th>\n",
       "      <th>activities</th>\n",
       "      <th>G3</th>\n",
       "    </tr>\n",
       "  </thead>\n",
       "  <tbody>\n",
       "    <tr>\n",
       "      <th>0</th>\n",
       "      <td>no</td>\n",
       "      <td>11.718563</td>\n",
       "    </tr>\n",
       "    <tr>\n",
       "      <th>1</th>\n",
       "      <td>yes</td>\n",
       "      <td>12.104762</td>\n",
       "    </tr>\n",
       "  </tbody>\n",
       "</table>\n",
       "</div>"
      ]
     },
     "execution_count": 55,
     "metadata": {},
     "output_type": "execute_result"
    }
   ],
   "execution_count": 55
  },
  {
   "metadata": {
    "ExecuteTime": {
     "end_time": "2025-05-25T20:05:52.364020Z",
     "start_time": "2025-05-25T20:05:52.353983Z"
    }
   },
   "cell_type": "code",
   "source": [
    "Dalc_romantic = df.groupby(['Dalc'])['romantic'].value_counts().reset_index()\n",
    "Dalc_romantic"
   ],
   "id": "4888b2746d4ac8e5",
   "outputs": [
    {
     "data": {
      "text/plain": [
       "   Dalc romantic  count\n",
       "0     1       no    289\n",
       "1     1      yes    162\n",
       "2     2       no     75\n",
       "3     2      yes     46\n",
       "4     3       no     32\n",
       "5     3      yes     11\n",
       "6     4      yes     10\n",
       "7     4       no      7\n",
       "8     5      yes     10\n",
       "9     5       no      7"
      ],
      "text/html": [
       "<div>\n",
       "<style scoped>\n",
       "    .dataframe tbody tr th:only-of-type {\n",
       "        vertical-align: middle;\n",
       "    }\n",
       "\n",
       "    .dataframe tbody tr th {\n",
       "        vertical-align: top;\n",
       "    }\n",
       "\n",
       "    .dataframe thead th {\n",
       "        text-align: right;\n",
       "    }\n",
       "</style>\n",
       "<table border=\"1\" class=\"dataframe\">\n",
       "  <thead>\n",
       "    <tr style=\"text-align: right;\">\n",
       "      <th></th>\n",
       "      <th>Dalc</th>\n",
       "      <th>romantic</th>\n",
       "      <th>count</th>\n",
       "    </tr>\n",
       "  </thead>\n",
       "  <tbody>\n",
       "    <tr>\n",
       "      <th>0</th>\n",
       "      <td>1</td>\n",
       "      <td>no</td>\n",
       "      <td>289</td>\n",
       "    </tr>\n",
       "    <tr>\n",
       "      <th>1</th>\n",
       "      <td>1</td>\n",
       "      <td>yes</td>\n",
       "      <td>162</td>\n",
       "    </tr>\n",
       "    <tr>\n",
       "      <th>2</th>\n",
       "      <td>2</td>\n",
       "      <td>no</td>\n",
       "      <td>75</td>\n",
       "    </tr>\n",
       "    <tr>\n",
       "      <th>3</th>\n",
       "      <td>2</td>\n",
       "      <td>yes</td>\n",
       "      <td>46</td>\n",
       "    </tr>\n",
       "    <tr>\n",
       "      <th>4</th>\n",
       "      <td>3</td>\n",
       "      <td>no</td>\n",
       "      <td>32</td>\n",
       "    </tr>\n",
       "    <tr>\n",
       "      <th>5</th>\n",
       "      <td>3</td>\n",
       "      <td>yes</td>\n",
       "      <td>11</td>\n",
       "    </tr>\n",
       "    <tr>\n",
       "      <th>6</th>\n",
       "      <td>4</td>\n",
       "      <td>yes</td>\n",
       "      <td>10</td>\n",
       "    </tr>\n",
       "    <tr>\n",
       "      <th>7</th>\n",
       "      <td>4</td>\n",
       "      <td>no</td>\n",
       "      <td>7</td>\n",
       "    </tr>\n",
       "    <tr>\n",
       "      <th>8</th>\n",
       "      <td>5</td>\n",
       "      <td>yes</td>\n",
       "      <td>10</td>\n",
       "    </tr>\n",
       "    <tr>\n",
       "      <th>9</th>\n",
       "      <td>5</td>\n",
       "      <td>no</td>\n",
       "      <td>7</td>\n",
       "    </tr>\n",
       "  </tbody>\n",
       "</table>\n",
       "</div>"
      ]
     },
     "execution_count": 56,
     "metadata": {},
     "output_type": "execute_result"
    }
   ],
   "execution_count": 56
  },
  {
   "metadata": {},
   "cell_type": "code",
   "outputs": [],
   "execution_count": null,
   "source": "",
   "id": "95a4d75f3884b4c4"
  }
 ],
 "metadata": {
  "kernelspec": {
   "display_name": "Python 3",
   "language": "python",
   "name": "python3"
  },
  "language_info": {
   "codemirror_mode": {
    "name": "ipython",
    "version": 2
   },
   "file_extension": ".py",
   "mimetype": "text/x-python",
   "name": "python",
   "nbconvert_exporter": "python",
   "pygments_lexer": "ipython2",
   "version": "2.7.6"
  }
 },
 "nbformat": 4,
 "nbformat_minor": 5
}
